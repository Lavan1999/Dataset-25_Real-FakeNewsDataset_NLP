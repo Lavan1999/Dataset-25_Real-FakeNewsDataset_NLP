{
  "nbformat": 4,
  "nbformat_minor": 0,
  "metadata": {
    "colab": {
      "provenance": [],
      "include_colab_link": true
    },
    "kernelspec": {
      "name": "python3",
      "display_name": "Python 3"
    },
    "language_info": {
      "name": "python"
    }
  },
  "cells": [
    {
      "cell_type": "markdown",
      "metadata": {
        "id": "view-in-github",
        "colab_type": "text"
      },
      "source": [
        "<a href=\"https://colab.research.google.com/github/Lavan1999/Dataset-25_Real-FakeNewsDataset_NLP/blob/main/Real_%26_Fake_news_Dataset.ipynb\" target=\"_parent\"><img src=\"https://colab.research.google.com/assets/colab-badge.svg\" alt=\"Open In Colab\"/></a>"
      ]
    },
    {
      "cell_type": "markdown",
      "source": [
        "# **Real and Fake news dataset**"
      ],
      "metadata": {
        "id": "_8CTsUAg6wmQ"
      }
    },
    {
      "cell_type": "markdown",
      "source": [
        "# **Librarys**"
      ],
      "metadata": {
        "id": "yFojmG-TTSGT"
      }
    },
    {
      "cell_type": "code",
      "source": [
        "import pandas as pd\n",
        "import numpy as np\n",
        "\n",
        "#Connections\n",
        "from google.colab import drive\n",
        "\n",
        "#Statistic\n",
        "from scipy import stats\n",
        "\n",
        "#Visualization\n",
        "import plotly.graph_objects as go\n",
        "import plotly.express as px\n",
        "import matplotlib.pyplot as plt\n",
        "import seaborn as sns\n",
        "\n",
        "#Preprocessing\n",
        "from sklearn.preprocessing import OrdinalEncoder, MinMaxScaler, OneHotEncoder, StandardScaler\n",
        "\n",
        "from imblearn.under_sampling import NearMiss\n",
        "from imblearn.combine import SMOTETomek\n",
        "\n",
        "#Machine Learning identifying algorithms/Model\n",
        "from sklearn.model_selection import train_test_split\n",
        "\n",
        "#Machine Learning Training\n",
        "# Classification\n",
        "from sklearn.ensemble import GradientBoostingClassifier\n",
        "from xgboost import XGBClassifier\n",
        "from lightgbm import LGBMClassifier\n",
        "\n",
        "#Machine Learning Evaluation\n",
        "from sklearn.metrics import confusion_matrix, accuracy_score, mean_squared_error, r2_score # Regression\n",
        "from sklearn.metrics import top_k_accuracy_score, precision_score, recall_score # Classification"
      ],
      "metadata": {
        "id": "SbGF-nPCY1z7"
      },
      "execution_count": null,
      "outputs": []
    },
    {
      "cell_type": "code",
      "source": [
        "# Report\n",
        "# from dataprep.eda import create_report\n",
        "# create_report(df)"
      ],
      "metadata": {
        "id": "vjj4yn-SoTg2"
      },
      "execution_count": null,
      "outputs": []
    },
    {
      "cell_type": "markdown",
      "source": [
        "# **Loading dataset**"
      ],
      "metadata": {
        "id": "rb9nPZsRqDqU"
      }
    },
    {
      "cell_type": "code",
      "source": [
        "df1 = pd.read_csv(\"/content/True.csv\")\n"
      ],
      "metadata": {
        "id": "1nGVuvRN9UCW"
      },
      "execution_count": null,
      "outputs": []
    },
    {
      "cell_type": "code",
      "source": [
        "#df0 = pd.read_csv(\"/content/Fake.csv\")\n",
        "file_path = \"/content/Fake.csv\"\n",
        "\n",
        "# Attempt to read the CSV file, skipping problematic rows\n",
        "try:\n",
        "    df0 = pd.read_csv(file_path, error_bad_lines=False)\n",
        "    print(\"File successfully loaded.\")\n",
        "except Exception as e:\n",
        "    print(\"Error:\", e)"
      ],
      "metadata": {
        "colab": {
          "base_uri": "https://localhost:8080/"
        },
        "id": "0BfHUAerE4F0",
        "outputId": "d70bd349-fc50-454e-969c-68d9dda529be"
      },
      "execution_count": null,
      "outputs": [
        {
          "output_type": "stream",
          "name": "stdout",
          "text": [
            "Error: read_csv() got an unexpected keyword argument 'error_bad_lines'\n"
          ]
        }
      ]
    },
    {
      "cell_type": "code",
      "source": [
        "df1.head()"
      ],
      "metadata": {
        "id": "ReVb6iJj7qEy",
        "colab": {
          "base_uri": "https://localhost:8080/",
          "height": 206
        },
        "outputId": "af1cac0a-fe3d-429a-d2d9-45201b2b1751"
      },
      "execution_count": null,
      "outputs": [
        {
          "output_type": "execute_result",
          "data": {
            "text/plain": [
              "                                               title  \\\n",
              "0  As U.S. budget fight looms, Republicans flip t...   \n",
              "1  U.S. military to accept transgender recruits o...   \n",
              "2  Senior U.S. Republican senator: 'Let Mr. Muell...   \n",
              "3  FBI Russia probe helped by Australian diplomat...   \n",
              "4  Trump wants Postal Service to charge 'much mor...   \n",
              "\n",
              "                                                text       subject  \\\n",
              "0  WASHINGTON (Reuters) - The head of a conservat...  politicsNews   \n",
              "1  WASHINGTON (Reuters) - Transgender people will...  politicsNews   \n",
              "2  WASHINGTON (Reuters) - The special counsel inv...  politicsNews   \n",
              "3  WASHINGTON (Reuters) - Trump campaign adviser ...  politicsNews   \n",
              "4  SEATTLE/WASHINGTON (Reuters) - President Donal...  politicsNews   \n",
              "\n",
              "                 date  \n",
              "0  December 31, 2017   \n",
              "1  December 29, 2017   \n",
              "2  December 31, 2017   \n",
              "3  December 30, 2017   \n",
              "4  December 29, 2017   "
            ],
            "text/html": [
              "\n",
              "  <div id=\"df-1a59a0c3-312a-4918-a6d8-6c4583a4df82\" class=\"colab-df-container\">\n",
              "    <div>\n",
              "<style scoped>\n",
              "    .dataframe tbody tr th:only-of-type {\n",
              "        vertical-align: middle;\n",
              "    }\n",
              "\n",
              "    .dataframe tbody tr th {\n",
              "        vertical-align: top;\n",
              "    }\n",
              "\n",
              "    .dataframe thead th {\n",
              "        text-align: right;\n",
              "    }\n",
              "</style>\n",
              "<table border=\"1\" class=\"dataframe\">\n",
              "  <thead>\n",
              "    <tr style=\"text-align: right;\">\n",
              "      <th></th>\n",
              "      <th>title</th>\n",
              "      <th>text</th>\n",
              "      <th>subject</th>\n",
              "      <th>date</th>\n",
              "    </tr>\n",
              "  </thead>\n",
              "  <tbody>\n",
              "    <tr>\n",
              "      <th>0</th>\n",
              "      <td>As U.S. budget fight looms, Republicans flip t...</td>\n",
              "      <td>WASHINGTON (Reuters) - The head of a conservat...</td>\n",
              "      <td>politicsNews</td>\n",
              "      <td>December 31, 2017</td>\n",
              "    </tr>\n",
              "    <tr>\n",
              "      <th>1</th>\n",
              "      <td>U.S. military to accept transgender recruits o...</td>\n",
              "      <td>WASHINGTON (Reuters) - Transgender people will...</td>\n",
              "      <td>politicsNews</td>\n",
              "      <td>December 29, 2017</td>\n",
              "    </tr>\n",
              "    <tr>\n",
              "      <th>2</th>\n",
              "      <td>Senior U.S. Republican senator: 'Let Mr. Muell...</td>\n",
              "      <td>WASHINGTON (Reuters) - The special counsel inv...</td>\n",
              "      <td>politicsNews</td>\n",
              "      <td>December 31, 2017</td>\n",
              "    </tr>\n",
              "    <tr>\n",
              "      <th>3</th>\n",
              "      <td>FBI Russia probe helped by Australian diplomat...</td>\n",
              "      <td>WASHINGTON (Reuters) - Trump campaign adviser ...</td>\n",
              "      <td>politicsNews</td>\n",
              "      <td>December 30, 2017</td>\n",
              "    </tr>\n",
              "    <tr>\n",
              "      <th>4</th>\n",
              "      <td>Trump wants Postal Service to charge 'much mor...</td>\n",
              "      <td>SEATTLE/WASHINGTON (Reuters) - President Donal...</td>\n",
              "      <td>politicsNews</td>\n",
              "      <td>December 29, 2017</td>\n",
              "    </tr>\n",
              "  </tbody>\n",
              "</table>\n",
              "</div>\n",
              "    <div class=\"colab-df-buttons\">\n",
              "\n",
              "  <div class=\"colab-df-container\">\n",
              "    <button class=\"colab-df-convert\" onclick=\"convertToInteractive('df-1a59a0c3-312a-4918-a6d8-6c4583a4df82')\"\n",
              "            title=\"Convert this dataframe to an interactive table.\"\n",
              "            style=\"display:none;\">\n",
              "\n",
              "  <svg xmlns=\"http://www.w3.org/2000/svg\" height=\"24px\" viewBox=\"0 -960 960 960\">\n",
              "    <path d=\"M120-120v-720h720v720H120Zm60-500h600v-160H180v160Zm220 220h160v-160H400v160Zm0 220h160v-160H400v160ZM180-400h160v-160H180v160Zm440 0h160v-160H620v160ZM180-180h160v-160H180v160Zm440 0h160v-160H620v160Z\"/>\n",
              "  </svg>\n",
              "    </button>\n",
              "\n",
              "  <style>\n",
              "    .colab-df-container {\n",
              "      display:flex;\n",
              "      gap: 12px;\n",
              "    }\n",
              "\n",
              "    .colab-df-convert {\n",
              "      background-color: #E8F0FE;\n",
              "      border: none;\n",
              "      border-radius: 50%;\n",
              "      cursor: pointer;\n",
              "      display: none;\n",
              "      fill: #1967D2;\n",
              "      height: 32px;\n",
              "      padding: 0 0 0 0;\n",
              "      width: 32px;\n",
              "    }\n",
              "\n",
              "    .colab-df-convert:hover {\n",
              "      background-color: #E2EBFA;\n",
              "      box-shadow: 0px 1px 2px rgba(60, 64, 67, 0.3), 0px 1px 3px 1px rgba(60, 64, 67, 0.15);\n",
              "      fill: #174EA6;\n",
              "    }\n",
              "\n",
              "    .colab-df-buttons div {\n",
              "      margin-bottom: 4px;\n",
              "    }\n",
              "\n",
              "    [theme=dark] .colab-df-convert {\n",
              "      background-color: #3B4455;\n",
              "      fill: #D2E3FC;\n",
              "    }\n",
              "\n",
              "    [theme=dark] .colab-df-convert:hover {\n",
              "      background-color: #434B5C;\n",
              "      box-shadow: 0px 1px 3px 1px rgba(0, 0, 0, 0.15);\n",
              "      filter: drop-shadow(0px 1px 2px rgba(0, 0, 0, 0.3));\n",
              "      fill: #FFFFFF;\n",
              "    }\n",
              "  </style>\n",
              "\n",
              "    <script>\n",
              "      const buttonEl =\n",
              "        document.querySelector('#df-1a59a0c3-312a-4918-a6d8-6c4583a4df82 button.colab-df-convert');\n",
              "      buttonEl.style.display =\n",
              "        google.colab.kernel.accessAllowed ? 'block' : 'none';\n",
              "\n",
              "      async function convertToInteractive(key) {\n",
              "        const element = document.querySelector('#df-1a59a0c3-312a-4918-a6d8-6c4583a4df82');\n",
              "        const dataTable =\n",
              "          await google.colab.kernel.invokeFunction('convertToInteractive',\n",
              "                                                    [key], {});\n",
              "        if (!dataTable) return;\n",
              "\n",
              "        const docLinkHtml = 'Like what you see? Visit the ' +\n",
              "          '<a target=\"_blank\" href=https://colab.research.google.com/notebooks/data_table.ipynb>data table notebook</a>'\n",
              "          + ' to learn more about interactive tables.';\n",
              "        element.innerHTML = '';\n",
              "        dataTable['output_type'] = 'display_data';\n",
              "        await google.colab.output.renderOutput(dataTable, element);\n",
              "        const docLink = document.createElement('div');\n",
              "        docLink.innerHTML = docLinkHtml;\n",
              "        element.appendChild(docLink);\n",
              "      }\n",
              "    </script>\n",
              "  </div>\n",
              "\n",
              "\n",
              "<div id=\"df-f6f038ac-10d6-4185-875b-678133182cc0\">\n",
              "  <button class=\"colab-df-quickchart\" onclick=\"quickchart('df-f6f038ac-10d6-4185-875b-678133182cc0')\"\n",
              "            title=\"Suggest charts\"\n",
              "            style=\"display:none;\">\n",
              "\n",
              "<svg xmlns=\"http://www.w3.org/2000/svg\" height=\"24px\"viewBox=\"0 0 24 24\"\n",
              "     width=\"24px\">\n",
              "    <g>\n",
              "        <path d=\"M19 3H5c-1.1 0-2 .9-2 2v14c0 1.1.9 2 2 2h14c1.1 0 2-.9 2-2V5c0-1.1-.9-2-2-2zM9 17H7v-7h2v7zm4 0h-2V7h2v10zm4 0h-2v-4h2v4z\"/>\n",
              "    </g>\n",
              "</svg>\n",
              "  </button>\n",
              "\n",
              "<style>\n",
              "  .colab-df-quickchart {\n",
              "      --bg-color: #E8F0FE;\n",
              "      --fill-color: #1967D2;\n",
              "      --hover-bg-color: #E2EBFA;\n",
              "      --hover-fill-color: #174EA6;\n",
              "      --disabled-fill-color: #AAA;\n",
              "      --disabled-bg-color: #DDD;\n",
              "  }\n",
              "\n",
              "  [theme=dark] .colab-df-quickchart {\n",
              "      --bg-color: #3B4455;\n",
              "      --fill-color: #D2E3FC;\n",
              "      --hover-bg-color: #434B5C;\n",
              "      --hover-fill-color: #FFFFFF;\n",
              "      --disabled-bg-color: #3B4455;\n",
              "      --disabled-fill-color: #666;\n",
              "  }\n",
              "\n",
              "  .colab-df-quickchart {\n",
              "    background-color: var(--bg-color);\n",
              "    border: none;\n",
              "    border-radius: 50%;\n",
              "    cursor: pointer;\n",
              "    display: none;\n",
              "    fill: var(--fill-color);\n",
              "    height: 32px;\n",
              "    padding: 0;\n",
              "    width: 32px;\n",
              "  }\n",
              "\n",
              "  .colab-df-quickchart:hover {\n",
              "    background-color: var(--hover-bg-color);\n",
              "    box-shadow: 0 1px 2px rgba(60, 64, 67, 0.3), 0 1px 3px 1px rgba(60, 64, 67, 0.15);\n",
              "    fill: var(--button-hover-fill-color);\n",
              "  }\n",
              "\n",
              "  .colab-df-quickchart-complete:disabled,\n",
              "  .colab-df-quickchart-complete:disabled:hover {\n",
              "    background-color: var(--disabled-bg-color);\n",
              "    fill: var(--disabled-fill-color);\n",
              "    box-shadow: none;\n",
              "  }\n",
              "\n",
              "  .colab-df-spinner {\n",
              "    border: 2px solid var(--fill-color);\n",
              "    border-color: transparent;\n",
              "    border-bottom-color: var(--fill-color);\n",
              "    animation:\n",
              "      spin 1s steps(1) infinite;\n",
              "  }\n",
              "\n",
              "  @keyframes spin {\n",
              "    0% {\n",
              "      border-color: transparent;\n",
              "      border-bottom-color: var(--fill-color);\n",
              "      border-left-color: var(--fill-color);\n",
              "    }\n",
              "    20% {\n",
              "      border-color: transparent;\n",
              "      border-left-color: var(--fill-color);\n",
              "      border-top-color: var(--fill-color);\n",
              "    }\n",
              "    30% {\n",
              "      border-color: transparent;\n",
              "      border-left-color: var(--fill-color);\n",
              "      border-top-color: var(--fill-color);\n",
              "      border-right-color: var(--fill-color);\n",
              "    }\n",
              "    40% {\n",
              "      border-color: transparent;\n",
              "      border-right-color: var(--fill-color);\n",
              "      border-top-color: var(--fill-color);\n",
              "    }\n",
              "    60% {\n",
              "      border-color: transparent;\n",
              "      border-right-color: var(--fill-color);\n",
              "    }\n",
              "    80% {\n",
              "      border-color: transparent;\n",
              "      border-right-color: var(--fill-color);\n",
              "      border-bottom-color: var(--fill-color);\n",
              "    }\n",
              "    90% {\n",
              "      border-color: transparent;\n",
              "      border-bottom-color: var(--fill-color);\n",
              "    }\n",
              "  }\n",
              "</style>\n",
              "\n",
              "  <script>\n",
              "    async function quickchart(key) {\n",
              "      const quickchartButtonEl =\n",
              "        document.querySelector('#' + key + ' button');\n",
              "      quickchartButtonEl.disabled = true;  // To prevent multiple clicks.\n",
              "      quickchartButtonEl.classList.add('colab-df-spinner');\n",
              "      try {\n",
              "        const charts = await google.colab.kernel.invokeFunction(\n",
              "            'suggestCharts', [key], {});\n",
              "      } catch (error) {\n",
              "        console.error('Error during call to suggestCharts:', error);\n",
              "      }\n",
              "      quickchartButtonEl.classList.remove('colab-df-spinner');\n",
              "      quickchartButtonEl.classList.add('colab-df-quickchart-complete');\n",
              "    }\n",
              "    (() => {\n",
              "      let quickchartButtonEl =\n",
              "        document.querySelector('#df-f6f038ac-10d6-4185-875b-678133182cc0 button');\n",
              "      quickchartButtonEl.style.display =\n",
              "        google.colab.kernel.accessAllowed ? 'block' : 'none';\n",
              "    })();\n",
              "  </script>\n",
              "</div>\n",
              "\n",
              "    </div>\n",
              "  </div>\n"
            ],
            "application/vnd.google.colaboratory.intrinsic+json": {
              "type": "dataframe",
              "variable_name": "df1",
              "summary": "{\n  \"name\": \"df1\",\n  \"rows\": 3703,\n  \"fields\": [\n    {\n      \"column\": \"title\",\n      \"properties\": {\n        \"dtype\": \"string\",\n        \"num_unique_values\": 3685,\n        \"samples\": [\n          \"Trump says debt ceiling 'mess' could have been avoided: Twitter\",\n          \"EU activates 'all diplomatic channels' over new U.S. sanctions on Russia\",\n          \"Trump eyes Supreme Court after appeals court rejects travel ban\"\n        ],\n        \"semantic_type\": \"\",\n        \"description\": \"\"\n      }\n    },\n    {\n      \"column\": \"text\",\n      \"properties\": {\n        \"dtype\": \"string\",\n        \"num_unique_values\": 3687,\n        \"samples\": [\n          \"WASHINGTON (Reuters) - Former CIA Director John Brennan said on Monday there was enough contact between Americans and Russian officials during the 2016 U.S. election that there was definitely grounds for an investigation into possible collusion with Moscow, and also concern about Russian efforts to recruit Americans. \\u201cI had unresolved questions in my mind about whether or not the Russians had been successful in getting U.S. persons, involved in the campaign or not, to work on their behalf,\\u201d Brennan testified to the U.S. House of Representatives Intelligence Committee. Brennan declined to provide any indication about the identity of those people. \",\n          \"NEW YORK (Reuters) - The Trump administration is proposing to sell off in the coming fiscal year the entire gasoline reserve created in the aftermath of Hurricane Sandy, according to its budget proposal unveiled on Tuesday. The U.S. Northeast Gasoline Supply Reserve (NGSR) was established in 2014 to minimize the impact of sudden supply interruptions, such as occurred in 2012 during Sandy, the second-costliest hurricane in the country\\u2019s history. The gasoline reserve was established as part of the Strategic Petroleum Reserve (SPR). It consists of 1 million barrels of gasoline blendstock and is stored in commercial storage terminals in Maine, Massachusetts and New Jersey.  \\u201cThe NGSR has not been utilized and does not have the operational functionality that was envisioned post-Sandy,\\u201d the budget proposal said. It noted that the NGSR\\u2019s leased commercial storage contracts expire in the early part of fiscal 2019. A sale would offset $69 million of discretionary spending, with any additional proceeds going to the U.S. Treasury\\u2019s general fund for deficit reduction, the proposal says.  Sandy battered the northeastern U.S. coast at the end of October 2012, destroying homes and buildings, closing refineries and disrupting gasoline supplies. The U.S. East Coast accounts for over a third of national gasoline consumption.  The gasoline market is not likely to be affected significantly if the budget proposal is approved in its current form by Congress, said Robert Campbell, head of oil products markets at consultancy Energy Aspects, but it would leave the region at risk if another disaster struck. \\u201cNothing has changed very much (since 2012)... if we were to get in a situation where we once again have refinery closures on the East Coast, it would be a much more vulnerable market,\\u201d he said. The budget proposal for the fiscal year starting Oct. 1 also calls for selling half of the 688 million barrels of oil in the SPR, the nation\\u2019s emergency crude stockpile. That would represent about 141 days of U.S. oil imports of oil but only about three days worth of global production. \\u201cIn some ways it seems more logical now to have a gasoline reserve than a separate crude reserve,\\u201d said David Thompson, executive vice president at energy-specialized commodities broker Powerhouse in Washington. \\u201cThere is a time component involved in making and distributing gasoline, so if the Northeast refineries or the Colonial (pipeline) were affected by a major incident, it would take time to develop an alternative supply chain,\\u201d he said. Traders also said the gasoline reserve had been created so recently that its liquidation was unlikely to be approved by lawmakers quickly.  Under the Trump budget proposal, the existing Northeast home heating oil reserve of 1 million barrels would continue to operate. \",\n          \"WASHINGTON (Reuters) - The U.S. Department of Homeland Security\\u2019s top internal watchdog told Reuters on Tuesday he will retire, after he complained about a delay in the release of a report critical of the department\\u2019s handling of President Donald Trump\\u2019s travel ban. Homeland Security Inspector General John Roth, nominated by former Democratic President Barack Obama in late 2013, said in an interview on Tuesday that his last day will be Thursday. He announced his plans to his staff early last week. Roth said his decision to step down was unrelated to concerns he raised in a seven-page, Nov. 20 letter to members of Congress that revealed for the first time the findings from his office\\u2019s inquiry into how U.S. Customs and Border Protection implemented Trump\\u2019s initial travel ban in January. In the letter, Roth said he was \\u201ctroubled\\u201d that senior Department of Homeland Security (DHS) leaders had taken more than six weeks to decide which parts of the report should be made public, and had given it to the Justice Department to decide whether to redact some sections on internal deliberations. The 87-page report has yet to be released. In a statement, a DHS spokesman said its employees \\u201cconducted themselves professionally, and in a legal manner\\u201d in implementing the travel ban. Roth said that after he leaves, the inspector general office\\u2019s deputy, John V. Kelly, will take over temporarily until the president nominates a permanent replacement.  \\u201cIt was a good run,\\u201d Roth said, noting that he has worked in the government since the Reagan era. \\u201cIt is now time to do other things. This has been coming for awhile.\\u201d Trump\\u2019s travel ban of January 2017, restricting U.S. entry by people from certain Muslim majority countries, has been the target of multiple legal challenges. Its initial implementation led to chaos at airports across the United States. The January ban was blocked by federal courts. Trump later issued two revised versions in March and September. The U.S. Supreme Court is now weighing whether to let the latest version go into full effect after it was partially blocked by lower courts. In his letter to Congress, Roth said his office did not substantiate any claims of misconduct by customs agents, but that there was little warning before the ban took effect and the department violated court orders in two different instances. Roth told Reuters he had not heard any updates since he wrote to Congress. \\u201cI still remain very concerned,\\u201d he said, adding other inspectors general have told him they too were \\u201csurprised\\u201d by DHS\\u2019 handling of the matter. Presidentially appointed inspectors general serve at the pleasure of the president, although they typically do not step down with a change in administration. Roth has worked in government since 1987, including as a prosecutor in the Justice Department and more recently as head of the Food and Drug Administration\\u2019s Office of Criminal Investigations. \"\n        ],\n        \"semantic_type\": \"\",\n        \"description\": \"\"\n      }\n    },\n    {\n      \"column\": \"subject\",\n      \"properties\": {\n        \"dtype\": \"category\",\n        \"num_unique_values\": 1,\n        \"samples\": [\n          \"politicsNews\"\n        ],\n        \"semantic_type\": \"\",\n        \"description\": \"\"\n      }\n    },\n    {\n      \"column\": \"date\",\n      \"properties\": {\n        \"dtype\": \"object\",\n        \"num_unique_values\": 228,\n        \"samples\": [\n          \"May 30, 2017 \"\n        ],\n        \"semantic_type\": \"\",\n        \"description\": \"\"\n      }\n    }\n  ]\n}"
            }
          },
          "metadata": {},
          "execution_count": 15
        }
      ]
    },
    {
      "cell_type": "code",
      "source": [
        "df0.head()"
      ],
      "metadata": {
        "id": "0SlkopWSdeNJ",
        "colab": {
          "base_uri": "https://localhost:8080/",
          "height": 206
        },
        "outputId": "66250c68-5696-41e2-fcc1-cf9d44cc7ed2"
      },
      "execution_count": null,
      "outputs": [
        {
          "output_type": "execute_result",
          "data": {
            "text/plain": [
              "                                               title  \\\n",
              "0  As U.S. budget fight looms, Republicans flip t...   \n",
              "1  U.S. military to accept transgender recruits o...   \n",
              "2  Senior U.S. Republican senator: 'Let Mr. Muell...   \n",
              "3  FBI Russia probe helped by Australian diplomat...   \n",
              "4  Trump wants Postal Service to charge 'much mor...   \n",
              "\n",
              "                                                text        date  label  \n",
              "0  WASHINGTON (Reuters) - The head of a conservat...  2017-12-31      0  \n",
              "1  WASHINGTON (Reuters) - Transgender people will...  2017-12-29      0  \n",
              "2  WASHINGTON (Reuters) - The special counsel inv...  2017-12-31      0  \n",
              "3  WASHINGTON (Reuters) - Trump campaign adviser ...  2017-12-30      0  \n",
              "4  SEATTLE/WASHINGTON (Reuters) - President Donal...  2017-12-29      0  "
            ],
            "text/html": [
              "\n",
              "  <div id=\"df-61bbac27-8f21-474a-92c3-cb3f31ea8446\" class=\"colab-df-container\">\n",
              "    <div>\n",
              "<style scoped>\n",
              "    .dataframe tbody tr th:only-of-type {\n",
              "        vertical-align: middle;\n",
              "    }\n",
              "\n",
              "    .dataframe tbody tr th {\n",
              "        vertical-align: top;\n",
              "    }\n",
              "\n",
              "    .dataframe thead th {\n",
              "        text-align: right;\n",
              "    }\n",
              "</style>\n",
              "<table border=\"1\" class=\"dataframe\">\n",
              "  <thead>\n",
              "    <tr style=\"text-align: right;\">\n",
              "      <th></th>\n",
              "      <th>title</th>\n",
              "      <th>text</th>\n",
              "      <th>date</th>\n",
              "      <th>label</th>\n",
              "    </tr>\n",
              "  </thead>\n",
              "  <tbody>\n",
              "    <tr>\n",
              "      <th>0</th>\n",
              "      <td>As U.S. budget fight looms, Republicans flip t...</td>\n",
              "      <td>WASHINGTON (Reuters) - The head of a conservat...</td>\n",
              "      <td>2017-12-31</td>\n",
              "      <td>0</td>\n",
              "    </tr>\n",
              "    <tr>\n",
              "      <th>1</th>\n",
              "      <td>U.S. military to accept transgender recruits o...</td>\n",
              "      <td>WASHINGTON (Reuters) - Transgender people will...</td>\n",
              "      <td>2017-12-29</td>\n",
              "      <td>0</td>\n",
              "    </tr>\n",
              "    <tr>\n",
              "      <th>2</th>\n",
              "      <td>Senior U.S. Republican senator: 'Let Mr. Muell...</td>\n",
              "      <td>WASHINGTON (Reuters) - The special counsel inv...</td>\n",
              "      <td>2017-12-31</td>\n",
              "      <td>0</td>\n",
              "    </tr>\n",
              "    <tr>\n",
              "      <th>3</th>\n",
              "      <td>FBI Russia probe helped by Australian diplomat...</td>\n",
              "      <td>WASHINGTON (Reuters) - Trump campaign adviser ...</td>\n",
              "      <td>2017-12-30</td>\n",
              "      <td>0</td>\n",
              "    </tr>\n",
              "    <tr>\n",
              "      <th>4</th>\n",
              "      <td>Trump wants Postal Service to charge 'much mor...</td>\n",
              "      <td>SEATTLE/WASHINGTON (Reuters) - President Donal...</td>\n",
              "      <td>2017-12-29</td>\n",
              "      <td>0</td>\n",
              "    </tr>\n",
              "  </tbody>\n",
              "</table>\n",
              "</div>\n",
              "    <div class=\"colab-df-buttons\">\n",
              "\n",
              "  <div class=\"colab-df-container\">\n",
              "    <button class=\"colab-df-convert\" onclick=\"convertToInteractive('df-61bbac27-8f21-474a-92c3-cb3f31ea8446')\"\n",
              "            title=\"Convert this dataframe to an interactive table.\"\n",
              "            style=\"display:none;\">\n",
              "\n",
              "  <svg xmlns=\"http://www.w3.org/2000/svg\" height=\"24px\" viewBox=\"0 -960 960 960\">\n",
              "    <path d=\"M120-120v-720h720v720H120Zm60-500h600v-160H180v160Zm220 220h160v-160H400v160Zm0 220h160v-160H400v160ZM180-400h160v-160H180v160Zm440 0h160v-160H620v160ZM180-180h160v-160H180v160Zm440 0h160v-160H620v160Z\"/>\n",
              "  </svg>\n",
              "    </button>\n",
              "\n",
              "  <style>\n",
              "    .colab-df-container {\n",
              "      display:flex;\n",
              "      gap: 12px;\n",
              "    }\n",
              "\n",
              "    .colab-df-convert {\n",
              "      background-color: #E8F0FE;\n",
              "      border: none;\n",
              "      border-radius: 50%;\n",
              "      cursor: pointer;\n",
              "      display: none;\n",
              "      fill: #1967D2;\n",
              "      height: 32px;\n",
              "      padding: 0 0 0 0;\n",
              "      width: 32px;\n",
              "    }\n",
              "\n",
              "    .colab-df-convert:hover {\n",
              "      background-color: #E2EBFA;\n",
              "      box-shadow: 0px 1px 2px rgba(60, 64, 67, 0.3), 0px 1px 3px 1px rgba(60, 64, 67, 0.15);\n",
              "      fill: #174EA6;\n",
              "    }\n",
              "\n",
              "    .colab-df-buttons div {\n",
              "      margin-bottom: 4px;\n",
              "    }\n",
              "\n",
              "    [theme=dark] .colab-df-convert {\n",
              "      background-color: #3B4455;\n",
              "      fill: #D2E3FC;\n",
              "    }\n",
              "\n",
              "    [theme=dark] .colab-df-convert:hover {\n",
              "      background-color: #434B5C;\n",
              "      box-shadow: 0px 1px 3px 1px rgba(0, 0, 0, 0.15);\n",
              "      filter: drop-shadow(0px 1px 2px rgba(0, 0, 0, 0.3));\n",
              "      fill: #FFFFFF;\n",
              "    }\n",
              "  </style>\n",
              "\n",
              "    <script>\n",
              "      const buttonEl =\n",
              "        document.querySelector('#df-61bbac27-8f21-474a-92c3-cb3f31ea8446 button.colab-df-convert');\n",
              "      buttonEl.style.display =\n",
              "        google.colab.kernel.accessAllowed ? 'block' : 'none';\n",
              "\n",
              "      async function convertToInteractive(key) {\n",
              "        const element = document.querySelector('#df-61bbac27-8f21-474a-92c3-cb3f31ea8446');\n",
              "        const dataTable =\n",
              "          await google.colab.kernel.invokeFunction('convertToInteractive',\n",
              "                                                    [key], {});\n",
              "        if (!dataTable) return;\n",
              "\n",
              "        const docLinkHtml = 'Like what you see? Visit the ' +\n",
              "          '<a target=\"_blank\" href=https://colab.research.google.com/notebooks/data_table.ipynb>data table notebook</a>'\n",
              "          + ' to learn more about interactive tables.';\n",
              "        element.innerHTML = '';\n",
              "        dataTable['output_type'] = 'display_data';\n",
              "        await google.colab.output.renderOutput(dataTable, element);\n",
              "        const docLink = document.createElement('div');\n",
              "        docLink.innerHTML = docLinkHtml;\n",
              "        element.appendChild(docLink);\n",
              "      }\n",
              "    </script>\n",
              "  </div>\n",
              "\n",
              "\n",
              "<div id=\"df-97f246a6-88b1-4cc1-98c0-c44dc1b7d34a\">\n",
              "  <button class=\"colab-df-quickchart\" onclick=\"quickchart('df-97f246a6-88b1-4cc1-98c0-c44dc1b7d34a')\"\n",
              "            title=\"Suggest charts\"\n",
              "            style=\"display:none;\">\n",
              "\n",
              "<svg xmlns=\"http://www.w3.org/2000/svg\" height=\"24px\"viewBox=\"0 0 24 24\"\n",
              "     width=\"24px\">\n",
              "    <g>\n",
              "        <path d=\"M19 3H5c-1.1 0-2 .9-2 2v14c0 1.1.9 2 2 2h14c1.1 0 2-.9 2-2V5c0-1.1-.9-2-2-2zM9 17H7v-7h2v7zm4 0h-2V7h2v10zm4 0h-2v-4h2v4z\"/>\n",
              "    </g>\n",
              "</svg>\n",
              "  </button>\n",
              "\n",
              "<style>\n",
              "  .colab-df-quickchart {\n",
              "      --bg-color: #E8F0FE;\n",
              "      --fill-color: #1967D2;\n",
              "      --hover-bg-color: #E2EBFA;\n",
              "      --hover-fill-color: #174EA6;\n",
              "      --disabled-fill-color: #AAA;\n",
              "      --disabled-bg-color: #DDD;\n",
              "  }\n",
              "\n",
              "  [theme=dark] .colab-df-quickchart {\n",
              "      --bg-color: #3B4455;\n",
              "      --fill-color: #D2E3FC;\n",
              "      --hover-bg-color: #434B5C;\n",
              "      --hover-fill-color: #FFFFFF;\n",
              "      --disabled-bg-color: #3B4455;\n",
              "      --disabled-fill-color: #666;\n",
              "  }\n",
              "\n",
              "  .colab-df-quickchart {\n",
              "    background-color: var(--bg-color);\n",
              "    border: none;\n",
              "    border-radius: 50%;\n",
              "    cursor: pointer;\n",
              "    display: none;\n",
              "    fill: var(--fill-color);\n",
              "    height: 32px;\n",
              "    padding: 0;\n",
              "    width: 32px;\n",
              "  }\n",
              "\n",
              "  .colab-df-quickchart:hover {\n",
              "    background-color: var(--hover-bg-color);\n",
              "    box-shadow: 0 1px 2px rgba(60, 64, 67, 0.3), 0 1px 3px 1px rgba(60, 64, 67, 0.15);\n",
              "    fill: var(--button-hover-fill-color);\n",
              "  }\n",
              "\n",
              "  .colab-df-quickchart-complete:disabled,\n",
              "  .colab-df-quickchart-complete:disabled:hover {\n",
              "    background-color: var(--disabled-bg-color);\n",
              "    fill: var(--disabled-fill-color);\n",
              "    box-shadow: none;\n",
              "  }\n",
              "\n",
              "  .colab-df-spinner {\n",
              "    border: 2px solid var(--fill-color);\n",
              "    border-color: transparent;\n",
              "    border-bottom-color: var(--fill-color);\n",
              "    animation:\n",
              "      spin 1s steps(1) infinite;\n",
              "  }\n",
              "\n",
              "  @keyframes spin {\n",
              "    0% {\n",
              "      border-color: transparent;\n",
              "      border-bottom-color: var(--fill-color);\n",
              "      border-left-color: var(--fill-color);\n",
              "    }\n",
              "    20% {\n",
              "      border-color: transparent;\n",
              "      border-left-color: var(--fill-color);\n",
              "      border-top-color: var(--fill-color);\n",
              "    }\n",
              "    30% {\n",
              "      border-color: transparent;\n",
              "      border-left-color: var(--fill-color);\n",
              "      border-top-color: var(--fill-color);\n",
              "      border-right-color: var(--fill-color);\n",
              "    }\n",
              "    40% {\n",
              "      border-color: transparent;\n",
              "      border-right-color: var(--fill-color);\n",
              "      border-top-color: var(--fill-color);\n",
              "    }\n",
              "    60% {\n",
              "      border-color: transparent;\n",
              "      border-right-color: var(--fill-color);\n",
              "    }\n",
              "    80% {\n",
              "      border-color: transparent;\n",
              "      border-right-color: var(--fill-color);\n",
              "      border-bottom-color: var(--fill-color);\n",
              "    }\n",
              "    90% {\n",
              "      border-color: transparent;\n",
              "      border-bottom-color: var(--fill-color);\n",
              "    }\n",
              "  }\n",
              "</style>\n",
              "\n",
              "  <script>\n",
              "    async function quickchart(key) {\n",
              "      const quickchartButtonEl =\n",
              "        document.querySelector('#' + key + ' button');\n",
              "      quickchartButtonEl.disabled = true;  // To prevent multiple clicks.\n",
              "      quickchartButtonEl.classList.add('colab-df-spinner');\n",
              "      try {\n",
              "        const charts = await google.colab.kernel.invokeFunction(\n",
              "            'suggestCharts', [key], {});\n",
              "      } catch (error) {\n",
              "        console.error('Error during call to suggestCharts:', error);\n",
              "      }\n",
              "      quickchartButtonEl.classList.remove('colab-df-spinner');\n",
              "      quickchartButtonEl.classList.add('colab-df-quickchart-complete');\n",
              "    }\n",
              "    (() => {\n",
              "      let quickchartButtonEl =\n",
              "        document.querySelector('#df-97f246a6-88b1-4cc1-98c0-c44dc1b7d34a button');\n",
              "      quickchartButtonEl.style.display =\n",
              "        google.colab.kernel.accessAllowed ? 'block' : 'none';\n",
              "    })();\n",
              "  </script>\n",
              "</div>\n",
              "\n",
              "    </div>\n",
              "  </div>\n"
            ],
            "application/vnd.google.colaboratory.intrinsic+json": {
              "type": "dataframe",
              "variable_name": "df0",
              "summary": "{\n  \"name\": \"df0\",\n  \"rows\": 3688,\n  \"fields\": [\n    {\n      \"column\": \"title\",\n      \"properties\": {\n        \"dtype\": \"string\",\n        \"num_unique_values\": 3684,\n        \"samples\": [\n          \"Trump says debt ceiling 'mess' could have been avoided: Twitter\",\n          \"EU activates 'all diplomatic channels' over new U.S. sanctions on Russia\",\n          \"Trump eyes Supreme Court after appeals court rejects travel ban\"\n        ],\n        \"semantic_type\": \"\",\n        \"description\": \"\"\n      }\n    },\n    {\n      \"column\": \"text\",\n      \"properties\": {\n        \"dtype\": \"string\",\n        \"num_unique_values\": 3686,\n        \"samples\": [\n          \"WASHINGTON (Reuters) - Former CIA Director John Brennan said on Tuesday it became clear last summer that Russia was attempting to interfere in the U.S. presidential election, and that he warned the head of Russia\\u2019s FSB security service that such interference would hurt U.S. ties. \\u201cIt should be clear to everyone Russia brazenly interfered in our 2016 presidential election process and that they undertook these activities despite our strong protests and  explicit warning that they do not do so,\\u201d Brennan testified at a hearing of the U.S. House of Representatives Intelligence Committee. Brennan said he believed he was the first U.S. official to raise the matter of election interference with the Russians, citing a phone conversation he had on Aug. 4 last year with FSB head Alexander Bortnikov. He said he raised published media reports of Russian attempts to meddle in the election with the Russian official, who denied any involvement by Moscow.  Brennan said he briefed then President Barack Obama and other top officials, and that he discussed the matter with both Republican and Democratic U.S. congressional leaders in August and September. U.S. intelligence agencies concluded in January that Moscow tried to tilt the November presidential election campaign in Republican Donald Trump\\u2019s favor, including by hacking into and leaking the emails of senior Democrats. Moscow has always denied the allegation.  The early months of Trump\\u2019s presidency have been clouded by FBI and congressional probes into Russian meddling and possible collusion by Trump\\u2019s campaign. Trump has denied any collusion. (Corrects to phone conversation, not meeting, in paragraph 3.) \",\n          \"WASHINGTON (Reuters) - The Trump administration on Wednesday made its final plea to the U.S. Supreme Court to allow its proposed ban on travelers from six Muslim-majority countries to go into effect as the justices weigh how to handle the hotly contested dispute. The court papers filed by President Donald Trump\\u2019s administration complete the briefing on the government\\u2019s emergency application asking the justices to block lower court injunctions in favor of challengers to the ban. The Supreme Court could now act at any time. The lower court rulings blocked the 90-day ban on travelers from Libya, Iran, Somalia, Sudan, Syria and Yemen and a 120-day ban on all refugees entering the United States to give the government time to implement stronger vetting procedures. In the court papers, Acting Solicitor General Jeff Wall said the lower courts had wrongly second-guessed the president on national security policy when reviewing the March 6 executive order. \\u201cThe president expressly determined that the order\\u2019s provisions are needed to promote national security, but the lower courts here ... nullified that judgment,\\u201d he wrote. In court papers filed on Tuesday, lawyers for the state of Hawaii and individual plaintiffs in Maryland urged the high court not to allow the ban go into effect. \",\n          \"WASHINGTON (Reuters) - President Donald Trump is growing increasingly frustrated with China over its inaction on North Korea and bilateral trade issues and is now considering possible trade actions against Beijing, three senior administration officials told Reuters. The officials said Trump was looking at options including tariffs on steel imports, which Commerce Secretary Wilbur Ross already has said he is considering as part of a national security study of the U.S. steel industry.  Whether Trump would take any steps against China remains unclear. In April, he backed off from a threat to withdraw from NAFTA after he said Canadian and Mexican leaders telephoned him asking him to halt a planned executive order in favor of opening discussions. The officials said there was no consensus on the way forward with China and they did not say what other options were being studied. No decision was expected this week, a senior official said. Chinese steel already is subject to dozens of anti-dumping and anti-subsidy orders. As a result it has only a small share of the U.S. market. \\u201cWhat\\u2019s guiding this is he ran to protect American industry and American workers,\\u201d one of the U.S. officials said, referring to Trump\\u2019s 2016 election promise to take a hard line on trade with China. On North Korea, Trump \\u201cfeels like he gave China a chance to make a difference\\u201d but has not seen enough results, the official said. The United States has pressed China to exert more economic and diplomatic pressure on North Korea to help rein in its nuclear and missile programs. Beijing has repeatedly said its influence on North Korea is limited and that it is doing all it can. \\u201cThey did a little, not a lot,\\u201d the official said. \\u201cAnd if he\\u2019s not going to get what he needs on that, he needs to move ahead on his broader agenda on trade and on North Korea.\\u201d U.S. Ambassador to China Terry Branstad, who arrived in Beijing on Tuesday, spoke reporters outside his residence on Wednesday and said the United States hoped to collaborate with China. \\u201cWe need to work together to deal with some of the pressing, difficult issues, such as the threat from North Korea. We want to work together to denuclearize the Korean Peninsula,\\u201d he said.  The death of American university student Otto Warmbier last week, after his release from 17 months of imprisonment in Pyongyang, has further complicated Trump\\u2019s approach to North Korea, his top national security challenge. Trump signaled his disappointment with China\\u2019s efforts in a  tweet last week: \\u201cWhile I greatly appreciate the efforts of President Xi & China to help with North Korea, it has not worked out. At least I know China tried!\\u201d Trump had made a grand gesture of his desire for warm ties with Chinese President Xi Jinping when he played host to Xi in April at his Mar-a-Lago retreat in Palm Beach, Florida. \\u201cI think China will be stepping up,\\u201d Trump said at the time.  Since then, however, North Korea\\u2019s tests of long-range missiles have continued unabated and there have been reports it is preparing for another underground nuclear test. Trump dropped by last Thursday as White House national security adviser H.R. McMaster and Trump senior adviser Jared Kushner were meeting Chinese State Councillor Yang Jiechi, an official said. China\\u2019s inability to make headway on North Korea was one of the topics that was discussed, according to two people familiar with the meeting. In a statement last week, China\\u2019s foreign ministry said Yang had met McMaster and Kushner, but it gave no details. Ministry spokesman Lu Kang did not directly answer a question about that meeting, but said China and the United States had discussed North Korea, among other issues, during a security dialogue Yang attended. Yang also had a separate meeting with Trump. The ministry said last week that Yang told Trump that China was willing to work with all sides, including the United States, to lessen tension on the Korean peninsula and promote an \\u201cappropriate\\u201d resolution.  Trump met Indian Prime Minister Narendra Modi on Monday at the White House and made a point of noting that the United States, India and Japan would be joining together in naval exercises soon in the Indian Ocean, a point that seemed aimed at India rival Beijing. Trump also thanked India for joining the United States in imposing new sanctions against North Korea. \"\n        ],\n        \"semantic_type\": \"\",\n        \"description\": \"\"\n      }\n    },\n    {\n      \"column\": \"date\",\n      \"properties\": {\n        \"dtype\": \"object\",\n        \"num_unique_values\": 228,\n        \"samples\": [\n          \"2017-05-30\",\n          \"2017-10-28\",\n          \"2017-12-22\"\n        ],\n        \"semantic_type\": \"\",\n        \"description\": \"\"\n      }\n    },\n    {\n      \"column\": \"label\",\n      \"properties\": {\n        \"dtype\": \"number\",\n        \"std\": 0,\n        \"min\": 0,\n        \"max\": 0,\n        \"num_unique_values\": 1,\n        \"samples\": [\n          0\n        ],\n        \"semantic_type\": \"\",\n        \"description\": \"\"\n      }\n    }\n  ]\n}"
            }
          },
          "metadata": {},
          "execution_count": 49
        }
      ]
    },
    {
      "cell_type": "markdown",
      "source": [
        "# **Data Cleaning Process**"
      ],
      "metadata": {
        "id": "zsfuLjoHLaPQ"
      }
    },
    {
      "cell_type": "code",
      "source": [
        "df1.info(), df0.info()"
      ],
      "metadata": {
        "id": "aBPUyPenLdv-"
      },
      "execution_count": null,
      "outputs": []
    },
    {
      "cell_type": "code",
      "source": [
        "df1.shape, df0.shape"
      ],
      "metadata": {
        "colab": {
          "base_uri": "https://localhost:8080/"
        },
        "id": "3aIEjQARGdcO",
        "outputId": "3180d7cf-5caf-4e41-d628-b7a658edd5d1"
      },
      "execution_count": null,
      "outputs": [
        {
          "output_type": "execute_result",
          "data": {
            "text/plain": [
              "((3688, 4), (3688, 4))"
            ]
          },
          "metadata": {},
          "execution_count": 50
        }
      ]
    },
    {
      "cell_type": "code",
      "source": [
        "df1.isnull().sum(), df0.isnull().sum()"
      ],
      "metadata": {
        "colab": {
          "base_uri": "https://localhost:8080/"
        },
        "id": "krB3PIccG_C8",
        "outputId": "d2bf8083-e368-4d6f-ce32-2f8b224f4bb3"
      },
      "execution_count": null,
      "outputs": [
        {
          "output_type": "execute_result",
          "data": {
            "text/plain": [
              "(title      0\n",
              " text       0\n",
              " subject    1\n",
              " date       1\n",
              " dtype: int64,\n",
              " title      0\n",
              " text       0\n",
              " subject    1\n",
              " date       1\n",
              " dtype: int64)"
            ]
          },
          "metadata": {},
          "execution_count": 18
        }
      ]
    },
    {
      "cell_type": "code",
      "source": [
        "df1.duplicated().sum(), df0.duplicated().sum()"
      ],
      "metadata": {
        "colab": {
          "base_uri": "https://localhost:8080/"
        },
        "id": "9G8MPfNAHGRD",
        "outputId": "e44cf64b-9e01-4f4b-9629-dfa624e2dd51"
      },
      "execution_count": null,
      "outputs": [
        {
          "output_type": "execute_result",
          "data": {
            "text/plain": [
              "(0, 0)"
            ]
          },
          "metadata": {},
          "execution_count": 30
        }
      ]
    },
    {
      "cell_type": "code",
      "source": [
        "df1.drop_duplicates(inplace=True)\n",
        "df0.drop_duplicates(inplace=True)\n"
      ],
      "metadata": {
        "id": "v9LIhuXPHTqJ"
      },
      "execution_count": null,
      "outputs": []
    },
    {
      "cell_type": "code",
      "source": [
        "df1.isnull().sum().sum(), df0.isnull().sum().sum()"
      ],
      "metadata": {
        "outputId": "d705b14a-1503-4d3e-c4ff-5bd7cfe2c8f3",
        "colab": {
          "base_uri": "https://localhost:8080/"
        },
        "id": "QVLjFp6TIiUN"
      },
      "execution_count": null,
      "outputs": [
        {
          "output_type": "execute_result",
          "data": {
            "text/plain": [
              "(2, 2)"
            ]
          },
          "metadata": {},
          "execution_count": 28
        }
      ]
    },
    {
      "cell_type": "code",
      "source": [
        "df1.dropna(inplace = True)\n",
        "df0.dropna(inplace = True)"
      ],
      "metadata": {
        "id": "zTv5ZRNMIrc2"
      },
      "execution_count": null,
      "outputs": []
    },
    {
      "cell_type": "code",
      "source": [
        "df1['label'] = 1\n",
        "df0['label'] = 0"
      ],
      "metadata": {
        "id": "KWy_nRwoJTYx"
      },
      "execution_count": null,
      "outputs": []
    },
    {
      "cell_type": "code",
      "source": [
        "df1.head()"
      ],
      "metadata": {
        "colab": {
          "base_uri": "https://localhost:8080/",
          "height": 206
        },
        "id": "Hgtg5jXnJTWm",
        "outputId": "84d1aabe-58f1-41f8-9227-66c37c40d840"
      },
      "execution_count": null,
      "outputs": [
        {
          "output_type": "execute_result",
          "data": {
            "text/plain": [
              "                                               title  \\\n",
              "0  As U.S. budget fight looms, Republicans flip t...   \n",
              "1  U.S. military to accept transgender recruits o...   \n",
              "2  Senior U.S. Republican senator: 'Let Mr. Muell...   \n",
              "3  FBI Russia probe helped by Australian diplomat...   \n",
              "4  Trump wants Postal Service to charge 'much mor...   \n",
              "\n",
              "                                                text       subject  \\\n",
              "0  WASHINGTON (Reuters) - The head of a conservat...  politicsNews   \n",
              "1  WASHINGTON (Reuters) - Transgender people will...  politicsNews   \n",
              "2  WASHINGTON (Reuters) - The special counsel inv...  politicsNews   \n",
              "3  WASHINGTON (Reuters) - Trump campaign adviser ...  politicsNews   \n",
              "4  SEATTLE/WASHINGTON (Reuters) - President Donal...  politicsNews   \n",
              "\n",
              "                 date  label  \n",
              "0  December 31, 2017       1  \n",
              "1  December 29, 2017       1  \n",
              "2  December 31, 2017       1  \n",
              "3  December 30, 2017       1  \n",
              "4  December 29, 2017       1  "
            ],
            "text/html": [
              "\n",
              "  <div id=\"df-ff0839da-68b9-4397-8f31-4e76844cd839\" class=\"colab-df-container\">\n",
              "    <div>\n",
              "<style scoped>\n",
              "    .dataframe tbody tr th:only-of-type {\n",
              "        vertical-align: middle;\n",
              "    }\n",
              "\n",
              "    .dataframe tbody tr th {\n",
              "        vertical-align: top;\n",
              "    }\n",
              "\n",
              "    .dataframe thead th {\n",
              "        text-align: right;\n",
              "    }\n",
              "</style>\n",
              "<table border=\"1\" class=\"dataframe\">\n",
              "  <thead>\n",
              "    <tr style=\"text-align: right;\">\n",
              "      <th></th>\n",
              "      <th>title</th>\n",
              "      <th>text</th>\n",
              "      <th>subject</th>\n",
              "      <th>date</th>\n",
              "      <th>label</th>\n",
              "    </tr>\n",
              "  </thead>\n",
              "  <tbody>\n",
              "    <tr>\n",
              "      <th>0</th>\n",
              "      <td>As U.S. budget fight looms, Republicans flip t...</td>\n",
              "      <td>WASHINGTON (Reuters) - The head of a conservat...</td>\n",
              "      <td>politicsNews</td>\n",
              "      <td>December 31, 2017</td>\n",
              "      <td>1</td>\n",
              "    </tr>\n",
              "    <tr>\n",
              "      <th>1</th>\n",
              "      <td>U.S. military to accept transgender recruits o...</td>\n",
              "      <td>WASHINGTON (Reuters) - Transgender people will...</td>\n",
              "      <td>politicsNews</td>\n",
              "      <td>December 29, 2017</td>\n",
              "      <td>1</td>\n",
              "    </tr>\n",
              "    <tr>\n",
              "      <th>2</th>\n",
              "      <td>Senior U.S. Republican senator: 'Let Mr. Muell...</td>\n",
              "      <td>WASHINGTON (Reuters) - The special counsel inv...</td>\n",
              "      <td>politicsNews</td>\n",
              "      <td>December 31, 2017</td>\n",
              "      <td>1</td>\n",
              "    </tr>\n",
              "    <tr>\n",
              "      <th>3</th>\n",
              "      <td>FBI Russia probe helped by Australian diplomat...</td>\n",
              "      <td>WASHINGTON (Reuters) - Trump campaign adviser ...</td>\n",
              "      <td>politicsNews</td>\n",
              "      <td>December 30, 2017</td>\n",
              "      <td>1</td>\n",
              "    </tr>\n",
              "    <tr>\n",
              "      <th>4</th>\n",
              "      <td>Trump wants Postal Service to charge 'much mor...</td>\n",
              "      <td>SEATTLE/WASHINGTON (Reuters) - President Donal...</td>\n",
              "      <td>politicsNews</td>\n",
              "      <td>December 29, 2017</td>\n",
              "      <td>1</td>\n",
              "    </tr>\n",
              "  </tbody>\n",
              "</table>\n",
              "</div>\n",
              "    <div class=\"colab-df-buttons\">\n",
              "\n",
              "  <div class=\"colab-df-container\">\n",
              "    <button class=\"colab-df-convert\" onclick=\"convertToInteractive('df-ff0839da-68b9-4397-8f31-4e76844cd839')\"\n",
              "            title=\"Convert this dataframe to an interactive table.\"\n",
              "            style=\"display:none;\">\n",
              "\n",
              "  <svg xmlns=\"http://www.w3.org/2000/svg\" height=\"24px\" viewBox=\"0 -960 960 960\">\n",
              "    <path d=\"M120-120v-720h720v720H120Zm60-500h600v-160H180v160Zm220 220h160v-160H400v160Zm0 220h160v-160H400v160ZM180-400h160v-160H180v160Zm440 0h160v-160H620v160ZM180-180h160v-160H180v160Zm440 0h160v-160H620v160Z\"/>\n",
              "  </svg>\n",
              "    </button>\n",
              "\n",
              "  <style>\n",
              "    .colab-df-container {\n",
              "      display:flex;\n",
              "      gap: 12px;\n",
              "    }\n",
              "\n",
              "    .colab-df-convert {\n",
              "      background-color: #E8F0FE;\n",
              "      border: none;\n",
              "      border-radius: 50%;\n",
              "      cursor: pointer;\n",
              "      display: none;\n",
              "      fill: #1967D2;\n",
              "      height: 32px;\n",
              "      padding: 0 0 0 0;\n",
              "      width: 32px;\n",
              "    }\n",
              "\n",
              "    .colab-df-convert:hover {\n",
              "      background-color: #E2EBFA;\n",
              "      box-shadow: 0px 1px 2px rgba(60, 64, 67, 0.3), 0px 1px 3px 1px rgba(60, 64, 67, 0.15);\n",
              "      fill: #174EA6;\n",
              "    }\n",
              "\n",
              "    .colab-df-buttons div {\n",
              "      margin-bottom: 4px;\n",
              "    }\n",
              "\n",
              "    [theme=dark] .colab-df-convert {\n",
              "      background-color: #3B4455;\n",
              "      fill: #D2E3FC;\n",
              "    }\n",
              "\n",
              "    [theme=dark] .colab-df-convert:hover {\n",
              "      background-color: #434B5C;\n",
              "      box-shadow: 0px 1px 3px 1px rgba(0, 0, 0, 0.15);\n",
              "      filter: drop-shadow(0px 1px 2px rgba(0, 0, 0, 0.3));\n",
              "      fill: #FFFFFF;\n",
              "    }\n",
              "  </style>\n",
              "\n",
              "    <script>\n",
              "      const buttonEl =\n",
              "        document.querySelector('#df-ff0839da-68b9-4397-8f31-4e76844cd839 button.colab-df-convert');\n",
              "      buttonEl.style.display =\n",
              "        google.colab.kernel.accessAllowed ? 'block' : 'none';\n",
              "\n",
              "      async function convertToInteractive(key) {\n",
              "        const element = document.querySelector('#df-ff0839da-68b9-4397-8f31-4e76844cd839');\n",
              "        const dataTable =\n",
              "          await google.colab.kernel.invokeFunction('convertToInteractive',\n",
              "                                                    [key], {});\n",
              "        if (!dataTable) return;\n",
              "\n",
              "        const docLinkHtml = 'Like what you see? Visit the ' +\n",
              "          '<a target=\"_blank\" href=https://colab.research.google.com/notebooks/data_table.ipynb>data table notebook</a>'\n",
              "          + ' to learn more about interactive tables.';\n",
              "        element.innerHTML = '';\n",
              "        dataTable['output_type'] = 'display_data';\n",
              "        await google.colab.output.renderOutput(dataTable, element);\n",
              "        const docLink = document.createElement('div');\n",
              "        docLink.innerHTML = docLinkHtml;\n",
              "        element.appendChild(docLink);\n",
              "      }\n",
              "    </script>\n",
              "  </div>\n",
              "\n",
              "\n",
              "<div id=\"df-f8398186-144a-4388-b107-ddcdd4f53f2e\">\n",
              "  <button class=\"colab-df-quickchart\" onclick=\"quickchart('df-f8398186-144a-4388-b107-ddcdd4f53f2e')\"\n",
              "            title=\"Suggest charts\"\n",
              "            style=\"display:none;\">\n",
              "\n",
              "<svg xmlns=\"http://www.w3.org/2000/svg\" height=\"24px\"viewBox=\"0 0 24 24\"\n",
              "     width=\"24px\">\n",
              "    <g>\n",
              "        <path d=\"M19 3H5c-1.1 0-2 .9-2 2v14c0 1.1.9 2 2 2h14c1.1 0 2-.9 2-2V5c0-1.1-.9-2-2-2zM9 17H7v-7h2v7zm4 0h-2V7h2v10zm4 0h-2v-4h2v4z\"/>\n",
              "    </g>\n",
              "</svg>\n",
              "  </button>\n",
              "\n",
              "<style>\n",
              "  .colab-df-quickchart {\n",
              "      --bg-color: #E8F0FE;\n",
              "      --fill-color: #1967D2;\n",
              "      --hover-bg-color: #E2EBFA;\n",
              "      --hover-fill-color: #174EA6;\n",
              "      --disabled-fill-color: #AAA;\n",
              "      --disabled-bg-color: #DDD;\n",
              "  }\n",
              "\n",
              "  [theme=dark] .colab-df-quickchart {\n",
              "      --bg-color: #3B4455;\n",
              "      --fill-color: #D2E3FC;\n",
              "      --hover-bg-color: #434B5C;\n",
              "      --hover-fill-color: #FFFFFF;\n",
              "      --disabled-bg-color: #3B4455;\n",
              "      --disabled-fill-color: #666;\n",
              "  }\n",
              "\n",
              "  .colab-df-quickchart {\n",
              "    background-color: var(--bg-color);\n",
              "    border: none;\n",
              "    border-radius: 50%;\n",
              "    cursor: pointer;\n",
              "    display: none;\n",
              "    fill: var(--fill-color);\n",
              "    height: 32px;\n",
              "    padding: 0;\n",
              "    width: 32px;\n",
              "  }\n",
              "\n",
              "  .colab-df-quickchart:hover {\n",
              "    background-color: var(--hover-bg-color);\n",
              "    box-shadow: 0 1px 2px rgba(60, 64, 67, 0.3), 0 1px 3px 1px rgba(60, 64, 67, 0.15);\n",
              "    fill: var(--button-hover-fill-color);\n",
              "  }\n",
              "\n",
              "  .colab-df-quickchart-complete:disabled,\n",
              "  .colab-df-quickchart-complete:disabled:hover {\n",
              "    background-color: var(--disabled-bg-color);\n",
              "    fill: var(--disabled-fill-color);\n",
              "    box-shadow: none;\n",
              "  }\n",
              "\n",
              "  .colab-df-spinner {\n",
              "    border: 2px solid var(--fill-color);\n",
              "    border-color: transparent;\n",
              "    border-bottom-color: var(--fill-color);\n",
              "    animation:\n",
              "      spin 1s steps(1) infinite;\n",
              "  }\n",
              "\n",
              "  @keyframes spin {\n",
              "    0% {\n",
              "      border-color: transparent;\n",
              "      border-bottom-color: var(--fill-color);\n",
              "      border-left-color: var(--fill-color);\n",
              "    }\n",
              "    20% {\n",
              "      border-color: transparent;\n",
              "      border-left-color: var(--fill-color);\n",
              "      border-top-color: var(--fill-color);\n",
              "    }\n",
              "    30% {\n",
              "      border-color: transparent;\n",
              "      border-left-color: var(--fill-color);\n",
              "      border-top-color: var(--fill-color);\n",
              "      border-right-color: var(--fill-color);\n",
              "    }\n",
              "    40% {\n",
              "      border-color: transparent;\n",
              "      border-right-color: var(--fill-color);\n",
              "      border-top-color: var(--fill-color);\n",
              "    }\n",
              "    60% {\n",
              "      border-color: transparent;\n",
              "      border-right-color: var(--fill-color);\n",
              "    }\n",
              "    80% {\n",
              "      border-color: transparent;\n",
              "      border-right-color: var(--fill-color);\n",
              "      border-bottom-color: var(--fill-color);\n",
              "    }\n",
              "    90% {\n",
              "      border-color: transparent;\n",
              "      border-bottom-color: var(--fill-color);\n",
              "    }\n",
              "  }\n",
              "</style>\n",
              "\n",
              "  <script>\n",
              "    async function quickchart(key) {\n",
              "      const quickchartButtonEl =\n",
              "        document.querySelector('#' + key + ' button');\n",
              "      quickchartButtonEl.disabled = true;  // To prevent multiple clicks.\n",
              "      quickchartButtonEl.classList.add('colab-df-spinner');\n",
              "      try {\n",
              "        const charts = await google.colab.kernel.invokeFunction(\n",
              "            'suggestCharts', [key], {});\n",
              "      } catch (error) {\n",
              "        console.error('Error during call to suggestCharts:', error);\n",
              "      }\n",
              "      quickchartButtonEl.classList.remove('colab-df-spinner');\n",
              "      quickchartButtonEl.classList.add('colab-df-quickchart-complete');\n",
              "    }\n",
              "    (() => {\n",
              "      let quickchartButtonEl =\n",
              "        document.querySelector('#df-f8398186-144a-4388-b107-ddcdd4f53f2e button');\n",
              "      quickchartButtonEl.style.display =\n",
              "        google.colab.kernel.accessAllowed ? 'block' : 'none';\n",
              "    })();\n",
              "  </script>\n",
              "</div>\n",
              "\n",
              "    </div>\n",
              "  </div>\n"
            ],
            "application/vnd.google.colaboratory.intrinsic+json": {
              "type": "dataframe",
              "variable_name": "df1",
              "summary": "{\n  \"name\": \"df1\",\n  \"rows\": 3688,\n  \"fields\": [\n    {\n      \"column\": \"title\",\n      \"properties\": {\n        \"dtype\": \"string\",\n        \"num_unique_values\": 3684,\n        \"samples\": [\n          \"Trump says debt ceiling 'mess' could have been avoided: Twitter\",\n          \"EU activates 'all diplomatic channels' over new U.S. sanctions on Russia\",\n          \"Trump eyes Supreme Court after appeals court rejects travel ban\"\n        ],\n        \"semantic_type\": \"\",\n        \"description\": \"\"\n      }\n    },\n    {\n      \"column\": \"text\",\n      \"properties\": {\n        \"dtype\": \"string\",\n        \"num_unique_values\": 3686,\n        \"samples\": [\n          \"WASHINGTON (Reuters) - Former CIA Director John Brennan said on Tuesday it became clear last summer that Russia was attempting to interfere in the U.S. presidential election, and that he warned the head of Russia\\u2019s FSB security service that such interference would hurt U.S. ties. \\u201cIt should be clear to everyone Russia brazenly interfered in our 2016 presidential election process and that they undertook these activities despite our strong protests and  explicit warning that they do not do so,\\u201d Brennan testified at a hearing of the U.S. House of Representatives Intelligence Committee. Brennan said he believed he was the first U.S. official to raise the matter of election interference with the Russians, citing a phone conversation he had on Aug. 4 last year with FSB head Alexander Bortnikov. He said he raised published media reports of Russian attempts to meddle in the election with the Russian official, who denied any involvement by Moscow.  Brennan said he briefed then President Barack Obama and other top officials, and that he discussed the matter with both Republican and Democratic U.S. congressional leaders in August and September. U.S. intelligence agencies concluded in January that Moscow tried to tilt the November presidential election campaign in Republican Donald Trump\\u2019s favor, including by hacking into and leaking the emails of senior Democrats. Moscow has always denied the allegation.  The early months of Trump\\u2019s presidency have been clouded by FBI and congressional probes into Russian meddling and possible collusion by Trump\\u2019s campaign. Trump has denied any collusion. (Corrects to phone conversation, not meeting, in paragraph 3.) \",\n          \"WASHINGTON (Reuters) - The Trump administration on Wednesday made its final plea to the U.S. Supreme Court to allow its proposed ban on travelers from six Muslim-majority countries to go into effect as the justices weigh how to handle the hotly contested dispute. The court papers filed by President Donald Trump\\u2019s administration complete the briefing on the government\\u2019s emergency application asking the justices to block lower court injunctions in favor of challengers to the ban. The Supreme Court could now act at any time. The lower court rulings blocked the 90-day ban on travelers from Libya, Iran, Somalia, Sudan, Syria and Yemen and a 120-day ban on all refugees entering the United States to give the government time to implement stronger vetting procedures. In the court papers, Acting Solicitor General Jeff Wall said the lower courts had wrongly second-guessed the president on national security policy when reviewing the March 6 executive order. \\u201cThe president expressly determined that the order\\u2019s provisions are needed to promote national security, but the lower courts here ... nullified that judgment,\\u201d he wrote. In court papers filed on Tuesday, lawyers for the state of Hawaii and individual plaintiffs in Maryland urged the high court not to allow the ban go into effect. \",\n          \"WASHINGTON (Reuters) - President Donald Trump is growing increasingly frustrated with China over its inaction on North Korea and bilateral trade issues and is now considering possible trade actions against Beijing, three senior administration officials told Reuters. The officials said Trump was looking at options including tariffs on steel imports, which Commerce Secretary Wilbur Ross already has said he is considering as part of a national security study of the U.S. steel industry.  Whether Trump would take any steps against China remains unclear. In April, he backed off from a threat to withdraw from NAFTA after he said Canadian and Mexican leaders telephoned him asking him to halt a planned executive order in favor of opening discussions. The officials said there was no consensus on the way forward with China and they did not say what other options were being studied. No decision was expected this week, a senior official said. Chinese steel already is subject to dozens of anti-dumping and anti-subsidy orders. As a result it has only a small share of the U.S. market. \\u201cWhat\\u2019s guiding this is he ran to protect American industry and American workers,\\u201d one of the U.S. officials said, referring to Trump\\u2019s 2016 election promise to take a hard line on trade with China. On North Korea, Trump \\u201cfeels like he gave China a chance to make a difference\\u201d but has not seen enough results, the official said. The United States has pressed China to exert more economic and diplomatic pressure on North Korea to help rein in its nuclear and missile programs. Beijing has repeatedly said its influence on North Korea is limited and that it is doing all it can. \\u201cThey did a little, not a lot,\\u201d the official said. \\u201cAnd if he\\u2019s not going to get what he needs on that, he needs to move ahead on his broader agenda on trade and on North Korea.\\u201d U.S. Ambassador to China Terry Branstad, who arrived in Beijing on Tuesday, spoke reporters outside his residence on Wednesday and said the United States hoped to collaborate with China. \\u201cWe need to work together to deal with some of the pressing, difficult issues, such as the threat from North Korea. We want to work together to denuclearize the Korean Peninsula,\\u201d he said.  The death of American university student Otto Warmbier last week, after his release from 17 months of imprisonment in Pyongyang, has further complicated Trump\\u2019s approach to North Korea, his top national security challenge. Trump signaled his disappointment with China\\u2019s efforts in a  tweet last week: \\u201cWhile I greatly appreciate the efforts of President Xi & China to help with North Korea, it has not worked out. At least I know China tried!\\u201d Trump had made a grand gesture of his desire for warm ties with Chinese President Xi Jinping when he played host to Xi in April at his Mar-a-Lago retreat in Palm Beach, Florida. \\u201cI think China will be stepping up,\\u201d Trump said at the time.  Since then, however, North Korea\\u2019s tests of long-range missiles have continued unabated and there have been reports it is preparing for another underground nuclear test. Trump dropped by last Thursday as White House national security adviser H.R. McMaster and Trump senior adviser Jared Kushner were meeting Chinese State Councillor Yang Jiechi, an official said. China\\u2019s inability to make headway on North Korea was one of the topics that was discussed, according to two people familiar with the meeting. In a statement last week, China\\u2019s foreign ministry said Yang had met McMaster and Kushner, but it gave no details. Ministry spokesman Lu Kang did not directly answer a question about that meeting, but said China and the United States had discussed North Korea, among other issues, during a security dialogue Yang attended. Yang also had a separate meeting with Trump. The ministry said last week that Yang told Trump that China was willing to work with all sides, including the United States, to lessen tension on the Korean peninsula and promote an \\u201cappropriate\\u201d resolution.  Trump met Indian Prime Minister Narendra Modi on Monday at the White House and made a point of noting that the United States, India and Japan would be joining together in naval exercises soon in the Indian Ocean, a point that seemed aimed at India rival Beijing. Trump also thanked India for joining the United States in imposing new sanctions against North Korea. \"\n        ],\n        \"semantic_type\": \"\",\n        \"description\": \"\"\n      }\n    },\n    {\n      \"column\": \"subject\",\n      \"properties\": {\n        \"dtype\": \"category\",\n        \"num_unique_values\": 1,\n        \"samples\": [\n          \"politicsNews\"\n        ],\n        \"semantic_type\": \"\",\n        \"description\": \"\"\n      }\n    },\n    {\n      \"column\": \"date\",\n      \"properties\": {\n        \"dtype\": \"object\",\n        \"num_unique_values\": 228,\n        \"samples\": [\n          \"May 30, 2017 \"\n        ],\n        \"semantic_type\": \"\",\n        \"description\": \"\"\n      }\n    },\n    {\n      \"column\": \"label\",\n      \"properties\": {\n        \"dtype\": \"number\",\n        \"std\": 0,\n        \"min\": 1,\n        \"max\": 1,\n        \"num_unique_values\": 1,\n        \"samples\": [\n          1\n        ],\n        \"semantic_type\": \"\",\n        \"description\": \"\"\n      }\n    }\n  ]\n}"
            }
          },
          "metadata": {},
          "execution_count": 33
        }
      ]
    },
    {
      "cell_type": "code",
      "source": [
        "df0.head()"
      ],
      "metadata": {
        "colab": {
          "base_uri": "https://localhost:8080/",
          "height": 206
        },
        "id": "T6jbZP6OJeFS",
        "outputId": "5186242a-883f-4ef7-ad21-8cbb89e5df99"
      },
      "execution_count": null,
      "outputs": [
        {
          "output_type": "execute_result",
          "data": {
            "text/plain": [
              "                                               title  \\\n",
              "0  As U.S. budget fight looms, Republicans flip t...   \n",
              "1  U.S. military to accept transgender recruits o...   \n",
              "2  Senior U.S. Republican senator: 'Let Mr. Muell...   \n",
              "3  FBI Russia probe helped by Australian diplomat...   \n",
              "4  Trump wants Postal Service to charge 'much mor...   \n",
              "\n",
              "                                                text       subject  \\\n",
              "0  WASHINGTON (Reuters) - The head of a conservat...  politicsNews   \n",
              "1  WASHINGTON (Reuters) - Transgender people will...  politicsNews   \n",
              "2  WASHINGTON (Reuters) - The special counsel inv...  politicsNews   \n",
              "3  WASHINGTON (Reuters) - Trump campaign adviser ...  politicsNews   \n",
              "4  SEATTLE/WASHINGTON (Reuters) - President Donal...  politicsNews   \n",
              "\n",
              "                 date  label  \n",
              "0  December 31, 2017       0  \n",
              "1  December 29, 2017       0  \n",
              "2  December 31, 2017       0  \n",
              "3  December 30, 2017       0  \n",
              "4  December 29, 2017       0  "
            ],
            "text/html": [
              "\n",
              "  <div id=\"df-a0592043-a577-4dc5-837c-ed6193ad7f55\" class=\"colab-df-container\">\n",
              "    <div>\n",
              "<style scoped>\n",
              "    .dataframe tbody tr th:only-of-type {\n",
              "        vertical-align: middle;\n",
              "    }\n",
              "\n",
              "    .dataframe tbody tr th {\n",
              "        vertical-align: top;\n",
              "    }\n",
              "\n",
              "    .dataframe thead th {\n",
              "        text-align: right;\n",
              "    }\n",
              "</style>\n",
              "<table border=\"1\" class=\"dataframe\">\n",
              "  <thead>\n",
              "    <tr style=\"text-align: right;\">\n",
              "      <th></th>\n",
              "      <th>title</th>\n",
              "      <th>text</th>\n",
              "      <th>subject</th>\n",
              "      <th>date</th>\n",
              "      <th>label</th>\n",
              "    </tr>\n",
              "  </thead>\n",
              "  <tbody>\n",
              "    <tr>\n",
              "      <th>0</th>\n",
              "      <td>As U.S. budget fight looms, Republicans flip t...</td>\n",
              "      <td>WASHINGTON (Reuters) - The head of a conservat...</td>\n",
              "      <td>politicsNews</td>\n",
              "      <td>December 31, 2017</td>\n",
              "      <td>0</td>\n",
              "    </tr>\n",
              "    <tr>\n",
              "      <th>1</th>\n",
              "      <td>U.S. military to accept transgender recruits o...</td>\n",
              "      <td>WASHINGTON (Reuters) - Transgender people will...</td>\n",
              "      <td>politicsNews</td>\n",
              "      <td>December 29, 2017</td>\n",
              "      <td>0</td>\n",
              "    </tr>\n",
              "    <tr>\n",
              "      <th>2</th>\n",
              "      <td>Senior U.S. Republican senator: 'Let Mr. Muell...</td>\n",
              "      <td>WASHINGTON (Reuters) - The special counsel inv...</td>\n",
              "      <td>politicsNews</td>\n",
              "      <td>December 31, 2017</td>\n",
              "      <td>0</td>\n",
              "    </tr>\n",
              "    <tr>\n",
              "      <th>3</th>\n",
              "      <td>FBI Russia probe helped by Australian diplomat...</td>\n",
              "      <td>WASHINGTON (Reuters) - Trump campaign adviser ...</td>\n",
              "      <td>politicsNews</td>\n",
              "      <td>December 30, 2017</td>\n",
              "      <td>0</td>\n",
              "    </tr>\n",
              "    <tr>\n",
              "      <th>4</th>\n",
              "      <td>Trump wants Postal Service to charge 'much mor...</td>\n",
              "      <td>SEATTLE/WASHINGTON (Reuters) - President Donal...</td>\n",
              "      <td>politicsNews</td>\n",
              "      <td>December 29, 2017</td>\n",
              "      <td>0</td>\n",
              "    </tr>\n",
              "  </tbody>\n",
              "</table>\n",
              "</div>\n",
              "    <div class=\"colab-df-buttons\">\n",
              "\n",
              "  <div class=\"colab-df-container\">\n",
              "    <button class=\"colab-df-convert\" onclick=\"convertToInteractive('df-a0592043-a577-4dc5-837c-ed6193ad7f55')\"\n",
              "            title=\"Convert this dataframe to an interactive table.\"\n",
              "            style=\"display:none;\">\n",
              "\n",
              "  <svg xmlns=\"http://www.w3.org/2000/svg\" height=\"24px\" viewBox=\"0 -960 960 960\">\n",
              "    <path d=\"M120-120v-720h720v720H120Zm60-500h600v-160H180v160Zm220 220h160v-160H400v160Zm0 220h160v-160H400v160ZM180-400h160v-160H180v160Zm440 0h160v-160H620v160ZM180-180h160v-160H180v160Zm440 0h160v-160H620v160Z\"/>\n",
              "  </svg>\n",
              "    </button>\n",
              "\n",
              "  <style>\n",
              "    .colab-df-container {\n",
              "      display:flex;\n",
              "      gap: 12px;\n",
              "    }\n",
              "\n",
              "    .colab-df-convert {\n",
              "      background-color: #E8F0FE;\n",
              "      border: none;\n",
              "      border-radius: 50%;\n",
              "      cursor: pointer;\n",
              "      display: none;\n",
              "      fill: #1967D2;\n",
              "      height: 32px;\n",
              "      padding: 0 0 0 0;\n",
              "      width: 32px;\n",
              "    }\n",
              "\n",
              "    .colab-df-convert:hover {\n",
              "      background-color: #E2EBFA;\n",
              "      box-shadow: 0px 1px 2px rgba(60, 64, 67, 0.3), 0px 1px 3px 1px rgba(60, 64, 67, 0.15);\n",
              "      fill: #174EA6;\n",
              "    }\n",
              "\n",
              "    .colab-df-buttons div {\n",
              "      margin-bottom: 4px;\n",
              "    }\n",
              "\n",
              "    [theme=dark] .colab-df-convert {\n",
              "      background-color: #3B4455;\n",
              "      fill: #D2E3FC;\n",
              "    }\n",
              "\n",
              "    [theme=dark] .colab-df-convert:hover {\n",
              "      background-color: #434B5C;\n",
              "      box-shadow: 0px 1px 3px 1px rgba(0, 0, 0, 0.15);\n",
              "      filter: drop-shadow(0px 1px 2px rgba(0, 0, 0, 0.3));\n",
              "      fill: #FFFFFF;\n",
              "    }\n",
              "  </style>\n",
              "\n",
              "    <script>\n",
              "      const buttonEl =\n",
              "        document.querySelector('#df-a0592043-a577-4dc5-837c-ed6193ad7f55 button.colab-df-convert');\n",
              "      buttonEl.style.display =\n",
              "        google.colab.kernel.accessAllowed ? 'block' : 'none';\n",
              "\n",
              "      async function convertToInteractive(key) {\n",
              "        const element = document.querySelector('#df-a0592043-a577-4dc5-837c-ed6193ad7f55');\n",
              "        const dataTable =\n",
              "          await google.colab.kernel.invokeFunction('convertToInteractive',\n",
              "                                                    [key], {});\n",
              "        if (!dataTable) return;\n",
              "\n",
              "        const docLinkHtml = 'Like what you see? Visit the ' +\n",
              "          '<a target=\"_blank\" href=https://colab.research.google.com/notebooks/data_table.ipynb>data table notebook</a>'\n",
              "          + ' to learn more about interactive tables.';\n",
              "        element.innerHTML = '';\n",
              "        dataTable['output_type'] = 'display_data';\n",
              "        await google.colab.output.renderOutput(dataTable, element);\n",
              "        const docLink = document.createElement('div');\n",
              "        docLink.innerHTML = docLinkHtml;\n",
              "        element.appendChild(docLink);\n",
              "      }\n",
              "    </script>\n",
              "  </div>\n",
              "\n",
              "\n",
              "<div id=\"df-397eea08-4f56-4367-8238-64c8c7bf23a5\">\n",
              "  <button class=\"colab-df-quickchart\" onclick=\"quickchart('df-397eea08-4f56-4367-8238-64c8c7bf23a5')\"\n",
              "            title=\"Suggest charts\"\n",
              "            style=\"display:none;\">\n",
              "\n",
              "<svg xmlns=\"http://www.w3.org/2000/svg\" height=\"24px\"viewBox=\"0 0 24 24\"\n",
              "     width=\"24px\">\n",
              "    <g>\n",
              "        <path d=\"M19 3H5c-1.1 0-2 .9-2 2v14c0 1.1.9 2 2 2h14c1.1 0 2-.9 2-2V5c0-1.1-.9-2-2-2zM9 17H7v-7h2v7zm4 0h-2V7h2v10zm4 0h-2v-4h2v4z\"/>\n",
              "    </g>\n",
              "</svg>\n",
              "  </button>\n",
              "\n",
              "<style>\n",
              "  .colab-df-quickchart {\n",
              "      --bg-color: #E8F0FE;\n",
              "      --fill-color: #1967D2;\n",
              "      --hover-bg-color: #E2EBFA;\n",
              "      --hover-fill-color: #174EA6;\n",
              "      --disabled-fill-color: #AAA;\n",
              "      --disabled-bg-color: #DDD;\n",
              "  }\n",
              "\n",
              "  [theme=dark] .colab-df-quickchart {\n",
              "      --bg-color: #3B4455;\n",
              "      --fill-color: #D2E3FC;\n",
              "      --hover-bg-color: #434B5C;\n",
              "      --hover-fill-color: #FFFFFF;\n",
              "      --disabled-bg-color: #3B4455;\n",
              "      --disabled-fill-color: #666;\n",
              "  }\n",
              "\n",
              "  .colab-df-quickchart {\n",
              "    background-color: var(--bg-color);\n",
              "    border: none;\n",
              "    border-radius: 50%;\n",
              "    cursor: pointer;\n",
              "    display: none;\n",
              "    fill: var(--fill-color);\n",
              "    height: 32px;\n",
              "    padding: 0;\n",
              "    width: 32px;\n",
              "  }\n",
              "\n",
              "  .colab-df-quickchart:hover {\n",
              "    background-color: var(--hover-bg-color);\n",
              "    box-shadow: 0 1px 2px rgba(60, 64, 67, 0.3), 0 1px 3px 1px rgba(60, 64, 67, 0.15);\n",
              "    fill: var(--button-hover-fill-color);\n",
              "  }\n",
              "\n",
              "  .colab-df-quickchart-complete:disabled,\n",
              "  .colab-df-quickchart-complete:disabled:hover {\n",
              "    background-color: var(--disabled-bg-color);\n",
              "    fill: var(--disabled-fill-color);\n",
              "    box-shadow: none;\n",
              "  }\n",
              "\n",
              "  .colab-df-spinner {\n",
              "    border: 2px solid var(--fill-color);\n",
              "    border-color: transparent;\n",
              "    border-bottom-color: var(--fill-color);\n",
              "    animation:\n",
              "      spin 1s steps(1) infinite;\n",
              "  }\n",
              "\n",
              "  @keyframes spin {\n",
              "    0% {\n",
              "      border-color: transparent;\n",
              "      border-bottom-color: var(--fill-color);\n",
              "      border-left-color: var(--fill-color);\n",
              "    }\n",
              "    20% {\n",
              "      border-color: transparent;\n",
              "      border-left-color: var(--fill-color);\n",
              "      border-top-color: var(--fill-color);\n",
              "    }\n",
              "    30% {\n",
              "      border-color: transparent;\n",
              "      border-left-color: var(--fill-color);\n",
              "      border-top-color: var(--fill-color);\n",
              "      border-right-color: var(--fill-color);\n",
              "    }\n",
              "    40% {\n",
              "      border-color: transparent;\n",
              "      border-right-color: var(--fill-color);\n",
              "      border-top-color: var(--fill-color);\n",
              "    }\n",
              "    60% {\n",
              "      border-color: transparent;\n",
              "      border-right-color: var(--fill-color);\n",
              "    }\n",
              "    80% {\n",
              "      border-color: transparent;\n",
              "      border-right-color: var(--fill-color);\n",
              "      border-bottom-color: var(--fill-color);\n",
              "    }\n",
              "    90% {\n",
              "      border-color: transparent;\n",
              "      border-bottom-color: var(--fill-color);\n",
              "    }\n",
              "  }\n",
              "</style>\n",
              "\n",
              "  <script>\n",
              "    async function quickchart(key) {\n",
              "      const quickchartButtonEl =\n",
              "        document.querySelector('#' + key + ' button');\n",
              "      quickchartButtonEl.disabled = true;  // To prevent multiple clicks.\n",
              "      quickchartButtonEl.classList.add('colab-df-spinner');\n",
              "      try {\n",
              "        const charts = await google.colab.kernel.invokeFunction(\n",
              "            'suggestCharts', [key], {});\n",
              "      } catch (error) {\n",
              "        console.error('Error during call to suggestCharts:', error);\n",
              "      }\n",
              "      quickchartButtonEl.classList.remove('colab-df-spinner');\n",
              "      quickchartButtonEl.classList.add('colab-df-quickchart-complete');\n",
              "    }\n",
              "    (() => {\n",
              "      let quickchartButtonEl =\n",
              "        document.querySelector('#df-397eea08-4f56-4367-8238-64c8c7bf23a5 button');\n",
              "      quickchartButtonEl.style.display =\n",
              "        google.colab.kernel.accessAllowed ? 'block' : 'none';\n",
              "    })();\n",
              "  </script>\n",
              "</div>\n",
              "\n",
              "    </div>\n",
              "  </div>\n"
            ],
            "application/vnd.google.colaboratory.intrinsic+json": {
              "type": "dataframe",
              "variable_name": "df0",
              "summary": "{\n  \"name\": \"df0\",\n  \"rows\": 3688,\n  \"fields\": [\n    {\n      \"column\": \"title\",\n      \"properties\": {\n        \"dtype\": \"string\",\n        \"num_unique_values\": 3684,\n        \"samples\": [\n          \"Trump says debt ceiling 'mess' could have been avoided: Twitter\",\n          \"EU activates 'all diplomatic channels' over new U.S. sanctions on Russia\",\n          \"Trump eyes Supreme Court after appeals court rejects travel ban\"\n        ],\n        \"semantic_type\": \"\",\n        \"description\": \"\"\n      }\n    },\n    {\n      \"column\": \"text\",\n      \"properties\": {\n        \"dtype\": \"string\",\n        \"num_unique_values\": 3686,\n        \"samples\": [\n          \"WASHINGTON (Reuters) - Former CIA Director John Brennan said on Tuesday it became clear last summer that Russia was attempting to interfere in the U.S. presidential election, and that he warned the head of Russia\\u2019s FSB security service that such interference would hurt U.S. ties. \\u201cIt should be clear to everyone Russia brazenly interfered in our 2016 presidential election process and that they undertook these activities despite our strong protests and  explicit warning that they do not do so,\\u201d Brennan testified at a hearing of the U.S. House of Representatives Intelligence Committee. Brennan said he believed he was the first U.S. official to raise the matter of election interference with the Russians, citing a phone conversation he had on Aug. 4 last year with FSB head Alexander Bortnikov. He said he raised published media reports of Russian attempts to meddle in the election with the Russian official, who denied any involvement by Moscow.  Brennan said he briefed then President Barack Obama and other top officials, and that he discussed the matter with both Republican and Democratic U.S. congressional leaders in August and September. U.S. intelligence agencies concluded in January that Moscow tried to tilt the November presidential election campaign in Republican Donald Trump\\u2019s favor, including by hacking into and leaking the emails of senior Democrats. Moscow has always denied the allegation.  The early months of Trump\\u2019s presidency have been clouded by FBI and congressional probes into Russian meddling and possible collusion by Trump\\u2019s campaign. Trump has denied any collusion. (Corrects to phone conversation, not meeting, in paragraph 3.) \",\n          \"WASHINGTON (Reuters) - The Trump administration on Wednesday made its final plea to the U.S. Supreme Court to allow its proposed ban on travelers from six Muslim-majority countries to go into effect as the justices weigh how to handle the hotly contested dispute. The court papers filed by President Donald Trump\\u2019s administration complete the briefing on the government\\u2019s emergency application asking the justices to block lower court injunctions in favor of challengers to the ban. The Supreme Court could now act at any time. The lower court rulings blocked the 90-day ban on travelers from Libya, Iran, Somalia, Sudan, Syria and Yemen and a 120-day ban on all refugees entering the United States to give the government time to implement stronger vetting procedures. In the court papers, Acting Solicitor General Jeff Wall said the lower courts had wrongly second-guessed the president on national security policy when reviewing the March 6 executive order. \\u201cThe president expressly determined that the order\\u2019s provisions are needed to promote national security, but the lower courts here ... nullified that judgment,\\u201d he wrote. In court papers filed on Tuesday, lawyers for the state of Hawaii and individual plaintiffs in Maryland urged the high court not to allow the ban go into effect. \",\n          \"WASHINGTON (Reuters) - President Donald Trump is growing increasingly frustrated with China over its inaction on North Korea and bilateral trade issues and is now considering possible trade actions against Beijing, three senior administration officials told Reuters. The officials said Trump was looking at options including tariffs on steel imports, which Commerce Secretary Wilbur Ross already has said he is considering as part of a national security study of the U.S. steel industry.  Whether Trump would take any steps against China remains unclear. In April, he backed off from a threat to withdraw from NAFTA after he said Canadian and Mexican leaders telephoned him asking him to halt a planned executive order in favor of opening discussions. The officials said there was no consensus on the way forward with China and they did not say what other options were being studied. No decision was expected this week, a senior official said. Chinese steel already is subject to dozens of anti-dumping and anti-subsidy orders. As a result it has only a small share of the U.S. market. \\u201cWhat\\u2019s guiding this is he ran to protect American industry and American workers,\\u201d one of the U.S. officials said, referring to Trump\\u2019s 2016 election promise to take a hard line on trade with China. On North Korea, Trump \\u201cfeels like he gave China a chance to make a difference\\u201d but has not seen enough results, the official said. The United States has pressed China to exert more economic and diplomatic pressure on North Korea to help rein in its nuclear and missile programs. Beijing has repeatedly said its influence on North Korea is limited and that it is doing all it can. \\u201cThey did a little, not a lot,\\u201d the official said. \\u201cAnd if he\\u2019s not going to get what he needs on that, he needs to move ahead on his broader agenda on trade and on North Korea.\\u201d U.S. Ambassador to China Terry Branstad, who arrived in Beijing on Tuesday, spoke reporters outside his residence on Wednesday and said the United States hoped to collaborate with China. \\u201cWe need to work together to deal with some of the pressing, difficult issues, such as the threat from North Korea. We want to work together to denuclearize the Korean Peninsula,\\u201d he said.  The death of American university student Otto Warmbier last week, after his release from 17 months of imprisonment in Pyongyang, has further complicated Trump\\u2019s approach to North Korea, his top national security challenge. Trump signaled his disappointment with China\\u2019s efforts in a  tweet last week: \\u201cWhile I greatly appreciate the efforts of President Xi & China to help with North Korea, it has not worked out. At least I know China tried!\\u201d Trump had made a grand gesture of his desire for warm ties with Chinese President Xi Jinping when he played host to Xi in April at his Mar-a-Lago retreat in Palm Beach, Florida. \\u201cI think China will be stepping up,\\u201d Trump said at the time.  Since then, however, North Korea\\u2019s tests of long-range missiles have continued unabated and there have been reports it is preparing for another underground nuclear test. Trump dropped by last Thursday as White House national security adviser H.R. McMaster and Trump senior adviser Jared Kushner were meeting Chinese State Councillor Yang Jiechi, an official said. China\\u2019s inability to make headway on North Korea was one of the topics that was discussed, according to two people familiar with the meeting. In a statement last week, China\\u2019s foreign ministry said Yang had met McMaster and Kushner, but it gave no details. Ministry spokesman Lu Kang did not directly answer a question about that meeting, but said China and the United States had discussed North Korea, among other issues, during a security dialogue Yang attended. Yang also had a separate meeting with Trump. The ministry said last week that Yang told Trump that China was willing to work with all sides, including the United States, to lessen tension on the Korean peninsula and promote an \\u201cappropriate\\u201d resolution.  Trump met Indian Prime Minister Narendra Modi on Monday at the White House and made a point of noting that the United States, India and Japan would be joining together in naval exercises soon in the Indian Ocean, a point that seemed aimed at India rival Beijing. Trump also thanked India for joining the United States in imposing new sanctions against North Korea. \"\n        ],\n        \"semantic_type\": \"\",\n        \"description\": \"\"\n      }\n    },\n    {\n      \"column\": \"subject\",\n      \"properties\": {\n        \"dtype\": \"category\",\n        \"num_unique_values\": 1,\n        \"samples\": [\n          \"politicsNews\"\n        ],\n        \"semantic_type\": \"\",\n        \"description\": \"\"\n      }\n    },\n    {\n      \"column\": \"date\",\n      \"properties\": {\n        \"dtype\": \"object\",\n        \"num_unique_values\": 228,\n        \"samples\": [\n          \"May 30, 2017 \"\n        ],\n        \"semantic_type\": \"\",\n        \"description\": \"\"\n      }\n    },\n    {\n      \"column\": \"label\",\n      \"properties\": {\n        \"dtype\": \"number\",\n        \"std\": 0,\n        \"min\": 0,\n        \"max\": 0,\n        \"num_unique_values\": 1,\n        \"samples\": [\n          0\n        ],\n        \"semantic_type\": \"\",\n        \"description\": \"\"\n      }\n    }\n  ]\n}"
            }
          },
          "metadata": {},
          "execution_count": 34
        }
      ]
    },
    {
      "cell_type": "code",
      "source": [
        "df1.subject.unique()"
      ],
      "metadata": {
        "colab": {
          "base_uri": "https://localhost:8080/"
        },
        "id": "AEhFYDmyJkh6",
        "outputId": "3f83eb48-9114-4419-a195-080cb6297dc7"
      },
      "execution_count": null,
      "outputs": [
        {
          "output_type": "execute_result",
          "data": {
            "text/plain": [
              "array(['politicsNews'], dtype=object)"
            ]
          },
          "metadata": {},
          "execution_count": 35
        }
      ]
    },
    {
      "cell_type": "code",
      "source": [
        "df0.subject.unique()"
      ],
      "metadata": {
        "colab": {
          "base_uri": "https://localhost:8080/"
        },
        "id": "tH9akte6Jqfs",
        "outputId": "73537faa-b53b-45b8-f3b2-bde47c790d4b"
      },
      "execution_count": null,
      "outputs": [
        {
          "output_type": "execute_result",
          "data": {
            "text/plain": [
              "array(['politicsNews'], dtype=object)"
            ]
          },
          "metadata": {},
          "execution_count": 36
        }
      ]
    },
    {
      "cell_type": "code",
      "source": [
        "df1 = df1.drop('subject', axis=1)\n",
        "df0 = df0.drop('subject', axis=1)"
      ],
      "metadata": {
        "id": "RN7H50DxJqbX"
      },
      "execution_count": null,
      "outputs": []
    },
    {
      "cell_type": "code",
      "source": [
        "from datetime import datetime\n",
        "\n",
        "df1['date'] = pd.to_datetime(df1['date'])\n",
        "\n",
        "# Format the 'date' column to the desired format\n",
        "df1['date'] = df1['date'].dt.strftime('%Y-%m-%d')\n",
        "\n",
        "df0['date'] = pd.to_datetime(df0['date'])\n",
        "\n",
        "# Format the 'date' column to the desired format\n",
        "df0['date'] = df0['date'].dt.strftime('%Y-%m-%d')"
      ],
      "metadata": {
        "id": "LSJTCMMZKUe-"
      },
      "execution_count": null,
      "outputs": []
    },
    {
      "cell_type": "code",
      "source": [
        "df1.info()"
      ],
      "metadata": {
        "colab": {
          "base_uri": "https://localhost:8080/"
        },
        "id": "2gpoFrWHLq47",
        "outputId": "afd82892-f227-497d-f236-e297af67c9c3"
      },
      "execution_count": null,
      "outputs": [
        {
          "output_type": "stream",
          "name": "stdout",
          "text": [
            "<class 'pandas.core.frame.DataFrame'>\n",
            "Index: 3688 entries, 0 to 3701\n",
            "Data columns (total 4 columns):\n",
            " #   Column  Non-Null Count  Dtype \n",
            "---  ------  --------------  ----- \n",
            " 0   title   3688 non-null   object\n",
            " 1   text    3688 non-null   object\n",
            " 2   date    3688 non-null   object\n",
            " 3   label   3688 non-null   int64 \n",
            "dtypes: int64(1), object(3)\n",
            "memory usage: 273.1+ KB\n"
          ]
        }
      ]
    },
    {
      "cell_type": "code",
      "source": [
        "df0.info()"
      ],
      "metadata": {
        "colab": {
          "base_uri": "https://localhost:8080/"
        },
        "id": "obUxh13LLs_O",
        "outputId": "ff083fd2-3cb5-4b1d-ebff-9835c7b8fb75"
      },
      "execution_count": null,
      "outputs": [
        {
          "output_type": "stream",
          "name": "stdout",
          "text": [
            "<class 'pandas.core.frame.DataFrame'>\n",
            "Index: 3688 entries, 0 to 3701\n",
            "Data columns (total 4 columns):\n",
            " #   Column  Non-Null Count  Dtype \n",
            "---  ------  --------------  ----- \n",
            " 0   title   3688 non-null   object\n",
            " 1   text    3688 non-null   object\n",
            " 2   date    3688 non-null   object\n",
            " 3   label   3688 non-null   int64 \n",
            "dtypes: int64(1), object(3)\n",
            "memory usage: 273.1+ KB\n"
          ]
        }
      ]
    },
    {
      "cell_type": "code",
      "source": [
        "df = pd.concat([df1, df0])\n",
        "df = df.sample(frac=1).reset_index(drop=True)"
      ],
      "metadata": {
        "id": "k9gewMzoNU1X"
      },
      "execution_count": null,
      "outputs": []
    },
    {
      "cell_type": "code",
      "source": [
        "df.head()"
      ],
      "metadata": {
        "colab": {
          "base_uri": "https://localhost:8080/",
          "height": 206
        },
        "id": "1BqHdJLGNeyV",
        "outputId": "20361013-bb7b-4da1-93f8-0388e08c127d"
      },
      "execution_count": null,
      "outputs": [
        {
          "output_type": "execute_result",
          "data": {
            "text/plain": [
              "                                               title  \\\n",
              "0  House panels seek documents on Puerto Rico uti...   \n",
              "1  China says it will stick to commitment to figh...   \n",
              "2  Trump taps former NASA head Griffin for deputy...   \n",
              "3  Special election to replace Conyers to be held...   \n",
              "4  Manafort not a flight risk, lawyers say in cou...   \n",
              "\n",
              "                                                text        date  label  \n",
              "0  WASHINGTON (Reuters) - A U.S. congressional co...  2017-10-26      0  \n",
              "1  BEIJING (Reuters) - China said on Friday it wo...  2017-06-02      0  \n",
              "2  WASHINGTON (Reuters) - U.S. President Donald T...  2017-10-28      1  \n",
              "3  WASHINGTON (Reuters) - Michigan Governor Rick ...  2017-12-08      1  \n",
              "4  WASHINGTON (Reuters) - Paul Manafort, a former...  2017-11-02      1  "
            ],
            "text/html": [
              "\n",
              "  <div id=\"df-f1b628bd-0bf5-4939-b1d4-ad515de558bd\" class=\"colab-df-container\">\n",
              "    <div>\n",
              "<style scoped>\n",
              "    .dataframe tbody tr th:only-of-type {\n",
              "        vertical-align: middle;\n",
              "    }\n",
              "\n",
              "    .dataframe tbody tr th {\n",
              "        vertical-align: top;\n",
              "    }\n",
              "\n",
              "    .dataframe thead th {\n",
              "        text-align: right;\n",
              "    }\n",
              "</style>\n",
              "<table border=\"1\" class=\"dataframe\">\n",
              "  <thead>\n",
              "    <tr style=\"text-align: right;\">\n",
              "      <th></th>\n",
              "      <th>title</th>\n",
              "      <th>text</th>\n",
              "      <th>date</th>\n",
              "      <th>label</th>\n",
              "    </tr>\n",
              "  </thead>\n",
              "  <tbody>\n",
              "    <tr>\n",
              "      <th>0</th>\n",
              "      <td>House panels seek documents on Puerto Rico uti...</td>\n",
              "      <td>WASHINGTON (Reuters) - A U.S. congressional co...</td>\n",
              "      <td>2017-10-26</td>\n",
              "      <td>0</td>\n",
              "    </tr>\n",
              "    <tr>\n",
              "      <th>1</th>\n",
              "      <td>China says it will stick to commitment to figh...</td>\n",
              "      <td>BEIJING (Reuters) - China said on Friday it wo...</td>\n",
              "      <td>2017-06-02</td>\n",
              "      <td>0</td>\n",
              "    </tr>\n",
              "    <tr>\n",
              "      <th>2</th>\n",
              "      <td>Trump taps former NASA head Griffin for deputy...</td>\n",
              "      <td>WASHINGTON (Reuters) - U.S. President Donald T...</td>\n",
              "      <td>2017-10-28</td>\n",
              "      <td>1</td>\n",
              "    </tr>\n",
              "    <tr>\n",
              "      <th>3</th>\n",
              "      <td>Special election to replace Conyers to be held...</td>\n",
              "      <td>WASHINGTON (Reuters) - Michigan Governor Rick ...</td>\n",
              "      <td>2017-12-08</td>\n",
              "      <td>1</td>\n",
              "    </tr>\n",
              "    <tr>\n",
              "      <th>4</th>\n",
              "      <td>Manafort not a flight risk, lawyers say in cou...</td>\n",
              "      <td>WASHINGTON (Reuters) - Paul Manafort, a former...</td>\n",
              "      <td>2017-11-02</td>\n",
              "      <td>1</td>\n",
              "    </tr>\n",
              "  </tbody>\n",
              "</table>\n",
              "</div>\n",
              "    <div class=\"colab-df-buttons\">\n",
              "\n",
              "  <div class=\"colab-df-container\">\n",
              "    <button class=\"colab-df-convert\" onclick=\"convertToInteractive('df-f1b628bd-0bf5-4939-b1d4-ad515de558bd')\"\n",
              "            title=\"Convert this dataframe to an interactive table.\"\n",
              "            style=\"display:none;\">\n",
              "\n",
              "  <svg xmlns=\"http://www.w3.org/2000/svg\" height=\"24px\" viewBox=\"0 -960 960 960\">\n",
              "    <path d=\"M120-120v-720h720v720H120Zm60-500h600v-160H180v160Zm220 220h160v-160H400v160Zm0 220h160v-160H400v160ZM180-400h160v-160H180v160Zm440 0h160v-160H620v160ZM180-180h160v-160H180v160Zm440 0h160v-160H620v160Z\"/>\n",
              "  </svg>\n",
              "    </button>\n",
              "\n",
              "  <style>\n",
              "    .colab-df-container {\n",
              "      display:flex;\n",
              "      gap: 12px;\n",
              "    }\n",
              "\n",
              "    .colab-df-convert {\n",
              "      background-color: #E8F0FE;\n",
              "      border: none;\n",
              "      border-radius: 50%;\n",
              "      cursor: pointer;\n",
              "      display: none;\n",
              "      fill: #1967D2;\n",
              "      height: 32px;\n",
              "      padding: 0 0 0 0;\n",
              "      width: 32px;\n",
              "    }\n",
              "\n",
              "    .colab-df-convert:hover {\n",
              "      background-color: #E2EBFA;\n",
              "      box-shadow: 0px 1px 2px rgba(60, 64, 67, 0.3), 0px 1px 3px 1px rgba(60, 64, 67, 0.15);\n",
              "      fill: #174EA6;\n",
              "    }\n",
              "\n",
              "    .colab-df-buttons div {\n",
              "      margin-bottom: 4px;\n",
              "    }\n",
              "\n",
              "    [theme=dark] .colab-df-convert {\n",
              "      background-color: #3B4455;\n",
              "      fill: #D2E3FC;\n",
              "    }\n",
              "\n",
              "    [theme=dark] .colab-df-convert:hover {\n",
              "      background-color: #434B5C;\n",
              "      box-shadow: 0px 1px 3px 1px rgba(0, 0, 0, 0.15);\n",
              "      filter: drop-shadow(0px 1px 2px rgba(0, 0, 0, 0.3));\n",
              "      fill: #FFFFFF;\n",
              "    }\n",
              "  </style>\n",
              "\n",
              "    <script>\n",
              "      const buttonEl =\n",
              "        document.querySelector('#df-f1b628bd-0bf5-4939-b1d4-ad515de558bd button.colab-df-convert');\n",
              "      buttonEl.style.display =\n",
              "        google.colab.kernel.accessAllowed ? 'block' : 'none';\n",
              "\n",
              "      async function convertToInteractive(key) {\n",
              "        const element = document.querySelector('#df-f1b628bd-0bf5-4939-b1d4-ad515de558bd');\n",
              "        const dataTable =\n",
              "          await google.colab.kernel.invokeFunction('convertToInteractive',\n",
              "                                                    [key], {});\n",
              "        if (!dataTable) return;\n",
              "\n",
              "        const docLinkHtml = 'Like what you see? Visit the ' +\n",
              "          '<a target=\"_blank\" href=https://colab.research.google.com/notebooks/data_table.ipynb>data table notebook</a>'\n",
              "          + ' to learn more about interactive tables.';\n",
              "        element.innerHTML = '';\n",
              "        dataTable['output_type'] = 'display_data';\n",
              "        await google.colab.output.renderOutput(dataTable, element);\n",
              "        const docLink = document.createElement('div');\n",
              "        docLink.innerHTML = docLinkHtml;\n",
              "        element.appendChild(docLink);\n",
              "      }\n",
              "    </script>\n",
              "  </div>\n",
              "\n",
              "\n",
              "<div id=\"df-30bdae94-054c-423c-8f88-4117303d7c55\">\n",
              "  <button class=\"colab-df-quickchart\" onclick=\"quickchart('df-30bdae94-054c-423c-8f88-4117303d7c55')\"\n",
              "            title=\"Suggest charts\"\n",
              "            style=\"display:none;\">\n",
              "\n",
              "<svg xmlns=\"http://www.w3.org/2000/svg\" height=\"24px\"viewBox=\"0 0 24 24\"\n",
              "     width=\"24px\">\n",
              "    <g>\n",
              "        <path d=\"M19 3H5c-1.1 0-2 .9-2 2v14c0 1.1.9 2 2 2h14c1.1 0 2-.9 2-2V5c0-1.1-.9-2-2-2zM9 17H7v-7h2v7zm4 0h-2V7h2v10zm4 0h-2v-4h2v4z\"/>\n",
              "    </g>\n",
              "</svg>\n",
              "  </button>\n",
              "\n",
              "<style>\n",
              "  .colab-df-quickchart {\n",
              "      --bg-color: #E8F0FE;\n",
              "      --fill-color: #1967D2;\n",
              "      --hover-bg-color: #E2EBFA;\n",
              "      --hover-fill-color: #174EA6;\n",
              "      --disabled-fill-color: #AAA;\n",
              "      --disabled-bg-color: #DDD;\n",
              "  }\n",
              "\n",
              "  [theme=dark] .colab-df-quickchart {\n",
              "      --bg-color: #3B4455;\n",
              "      --fill-color: #D2E3FC;\n",
              "      --hover-bg-color: #434B5C;\n",
              "      --hover-fill-color: #FFFFFF;\n",
              "      --disabled-bg-color: #3B4455;\n",
              "      --disabled-fill-color: #666;\n",
              "  }\n",
              "\n",
              "  .colab-df-quickchart {\n",
              "    background-color: var(--bg-color);\n",
              "    border: none;\n",
              "    border-radius: 50%;\n",
              "    cursor: pointer;\n",
              "    display: none;\n",
              "    fill: var(--fill-color);\n",
              "    height: 32px;\n",
              "    padding: 0;\n",
              "    width: 32px;\n",
              "  }\n",
              "\n",
              "  .colab-df-quickchart:hover {\n",
              "    background-color: var(--hover-bg-color);\n",
              "    box-shadow: 0 1px 2px rgba(60, 64, 67, 0.3), 0 1px 3px 1px rgba(60, 64, 67, 0.15);\n",
              "    fill: var(--button-hover-fill-color);\n",
              "  }\n",
              "\n",
              "  .colab-df-quickchart-complete:disabled,\n",
              "  .colab-df-quickchart-complete:disabled:hover {\n",
              "    background-color: var(--disabled-bg-color);\n",
              "    fill: var(--disabled-fill-color);\n",
              "    box-shadow: none;\n",
              "  }\n",
              "\n",
              "  .colab-df-spinner {\n",
              "    border: 2px solid var(--fill-color);\n",
              "    border-color: transparent;\n",
              "    border-bottom-color: var(--fill-color);\n",
              "    animation:\n",
              "      spin 1s steps(1) infinite;\n",
              "  }\n",
              "\n",
              "  @keyframes spin {\n",
              "    0% {\n",
              "      border-color: transparent;\n",
              "      border-bottom-color: var(--fill-color);\n",
              "      border-left-color: var(--fill-color);\n",
              "    }\n",
              "    20% {\n",
              "      border-color: transparent;\n",
              "      border-left-color: var(--fill-color);\n",
              "      border-top-color: var(--fill-color);\n",
              "    }\n",
              "    30% {\n",
              "      border-color: transparent;\n",
              "      border-left-color: var(--fill-color);\n",
              "      border-top-color: var(--fill-color);\n",
              "      border-right-color: var(--fill-color);\n",
              "    }\n",
              "    40% {\n",
              "      border-color: transparent;\n",
              "      border-right-color: var(--fill-color);\n",
              "      border-top-color: var(--fill-color);\n",
              "    }\n",
              "    60% {\n",
              "      border-color: transparent;\n",
              "      border-right-color: var(--fill-color);\n",
              "    }\n",
              "    80% {\n",
              "      border-color: transparent;\n",
              "      border-right-color: var(--fill-color);\n",
              "      border-bottom-color: var(--fill-color);\n",
              "    }\n",
              "    90% {\n",
              "      border-color: transparent;\n",
              "      border-bottom-color: var(--fill-color);\n",
              "    }\n",
              "  }\n",
              "</style>\n",
              "\n",
              "  <script>\n",
              "    async function quickchart(key) {\n",
              "      const quickchartButtonEl =\n",
              "        document.querySelector('#' + key + ' button');\n",
              "      quickchartButtonEl.disabled = true;  // To prevent multiple clicks.\n",
              "      quickchartButtonEl.classList.add('colab-df-spinner');\n",
              "      try {\n",
              "        const charts = await google.colab.kernel.invokeFunction(\n",
              "            'suggestCharts', [key], {});\n",
              "      } catch (error) {\n",
              "        console.error('Error during call to suggestCharts:', error);\n",
              "      }\n",
              "      quickchartButtonEl.classList.remove('colab-df-spinner');\n",
              "      quickchartButtonEl.classList.add('colab-df-quickchart-complete');\n",
              "    }\n",
              "    (() => {\n",
              "      let quickchartButtonEl =\n",
              "        document.querySelector('#df-30bdae94-054c-423c-8f88-4117303d7c55 button');\n",
              "      quickchartButtonEl.style.display =\n",
              "        google.colab.kernel.accessAllowed ? 'block' : 'none';\n",
              "    })();\n",
              "  </script>\n",
              "</div>\n",
              "\n",
              "    </div>\n",
              "  </div>\n"
            ],
            "application/vnd.google.colaboratory.intrinsic+json": {
              "type": "dataframe",
              "variable_name": "df",
              "summary": "{\n  \"name\": \"df\",\n  \"rows\": 7376,\n  \"fields\": [\n    {\n      \"column\": \"title\",\n      \"properties\": {\n        \"dtype\": \"category\",\n        \"num_unique_values\": 3684,\n        \"samples\": [\n          \"Factbox: Trump on Twitter (Dec 1) - Kate Steinle, Tax cuts, Rex Tillerson\",\n          \"Trump says will announce decision on Paris climate deal soon\",\n          \"Energy Secretary Perry cancels Kazakhstan visit due to hurricane\"\n        ],\n        \"semantic_type\": \"\",\n        \"description\": \"\"\n      }\n    },\n    {\n      \"column\": \"text\",\n      \"properties\": {\n        \"dtype\": \"category\",\n        \"num_unique_values\": 3686,\n        \"samples\": [\n          \"PARIS (Reuters) - France\\u2019s foreign ministry on Wednesday said new U.S. sanctions against Iran, Russia and North Korea appeared at odds with international law due to their extra-territorial reach. The U.S. House of Representatives voted overwhelmingly on Tuesday for these sanctions, which could affect European firms. The foreign ministry said in a statement that French and European laws would need to be adjusted in response and added that discussions would be necessary at European Union level because of the potential impact on European citizens and firms. \",\n          \"WASHINGTON (Reuters) - U.S. Treasury Secretary Steven Mnuchin on Thursday pledged to treat \\u201cvery seriously\\u201d any business dealings President Donald Trump or his family might have with foreign companies flagged by officials as national security risks. Mnuchin did not say any such cases existed. A senior Democrat pressed Mnuchin, in an appearance before senators, to produce a list of the Trump family\\u2019s business relationships with foreign companies.  Senator Sherrod Brown, the top Democrat on the Senate Banking Committee, said Mnuchin had not adequately responded to his March 2 letter asking if the Treasury had a list of Trump\\u2019s business partners to see if any of them were on sanctions lists or had been investigated by a national security watchdog that analyzes foreign investments. The Treasury released a copy of a March 31 letter responding to Brown which said the department works with other agencies \\u201cto address and mitigate potential conflicts of interest if and when they arise.\\u201d Mnuchin said he reviewed cases at the Committee on Foreign Investment in the United States (CFIUS) every week. The Treasury is the lead department among the government agencies that are part of CFIUS.  \\u201cI can assure you that if there were any cases that involve the president or any members of his family that they would be treated very seriously. We would review them as we would anything else,\\u201d Mnuchin told the Senate panel. Trump, a wealthy real estate developer, has declined to sell his global businesses despite demands from critics that he do so to avoid conflicts of interest. Trump has said his two oldest sons will have daily control of his businesses while he is president.  A Reuters review in March found that at least 63 individuals with Russian passports or addresses have bought at least $98.4 million worth of property in seven Trump-branded luxury towers in southern Florida. \",\n          \"WASHINGTON (Reuters) - The departure on Friday of Steve Bannon, the White House\\u2019s top economic nationalist, will likely tip the trade policy scales in favor of the Trump administration\\u2019s \\u201cglobalist\\u201d faction, which could soften the stance toward two of Trump\\u2019s favorite targets: China and the North American Free Trade Agreement. But after news that Trump had fired Bannon from his post as chief strategist, trade experts said it may take some time for National Economic Council Chairman Gary Cohn, Treasury Secretary Steven Mnuchin and Agriculture Secretary Sonny Perdue to start winning more debates on trade policy. Bannon and White House Trade and Manufacturing Office director Peter Navarro were often allied in taking hardline anti-China stances over currency manipulation, steel tariffs and other trade issues, often opposed to Cohn, Mnuchin and Perdue, according to lobbyists who been involved in the debates. The Cohn-led group proved more influential in the administration\\u2019s decisions in April not to label China a currency manipulator and to renegotiate the North American Free Trade Agreement instead of terminating it.  More recently, they have pushed for a delay in a decision on the imposition of broad steel tariffs.     With Bannon gone, \\u201cthere\\u2019s not a replacement for that voice in internal debates,\\u201d said a senior administration official who was not authorized to speak publicly on the issue. \\u201cWithout Steve constantly pushing back on every policy idea coming from the so called \\u201cglobalists,\\u201d it\\u2019s easy to see how they could have a chance to start winning more policy battles,\\u201d the official said. In the short term, the trade policy trajectory won\\u2019t change much, said Derek Scissors, a China trade expert at the American Enterprise Institute, a pro-business conservative think tank in Washington. Many of Trump\\u2019s views on trade pre-dated Bannon\\u2019s arrival on his campaign in any case. The U.S. Trade Representative\\u2019s office announced on Friday that it will proceed with a planned investigation into whether China is misappropriating U.S. technology and intellectual property through unreasonable investment rules. Scissors said Bannon\\u2019s departure will show in what decisions the administration makes following a year-long study of the issue.   \\u201cIt\\u2019s about the final choices on do we go forward with these very difficult sanctions on the Chinese or do we look to make a tradeoff on a security issue, and Bannon would have been in the first camp,\\u201d Scissors said. The struggle for influence in Trump\\u2019s White House \\u201chas been something of a battle between the finance guys and the economic nationalists, and the most important economic nationalist just left,\\u201d Scissors added. The offices of USTR Robert Lighthizer and Commerce Secretary Wilbur Ross, who have been pushing for stronger trade policies to reduce U.S. trade deficits with China, Mexico and other countries, declined to comment on Bannon\\u2019s departure, referring policy questions to the White House. But industry lobbyists, who have been whipsawed by economic policy twists over trade and an ill-fated border tax proposal, were skeptical that much would change.  Two lobbyists on the sidelines of NAFTA talks in Washington said that even without Bannon, they will assume the status quo on trade policy as long as fierce China critic Navarro is in the White House. Bonnie Glaser, senior adviser for Asia at the Center for Strategic and International Studies, said the administration\\u2019s efforts to develop an effective strategy to retaliate against China\\u2019s unfair trade practices will survive, largely because there is a widely held view in the administration and the corporate sector that China\\u2019s trade practices are a problem. \\u201cI doubt this effort will evaporate, though it may evolve,\\u201d she said. \"\n        ],\n        \"semantic_type\": \"\",\n        \"description\": \"\"\n      }\n    },\n    {\n      \"column\": \"date\",\n      \"properties\": {\n        \"dtype\": \"object\",\n        \"num_unique_values\": 228,\n        \"samples\": [\n          \"2017-06-24\",\n          \"2017-06-26\",\n          \"2017-06-16\"\n        ],\n        \"semantic_type\": \"\",\n        \"description\": \"\"\n      }\n    },\n    {\n      \"column\": \"label\",\n      \"properties\": {\n        \"dtype\": \"number\",\n        \"std\": 0,\n        \"min\": 0,\n        \"max\": 1,\n        \"num_unique_values\": 2,\n        \"samples\": [\n          1,\n          0\n        ],\n        \"semantic_type\": \"\",\n        \"description\": \"\"\n      }\n    }\n  ]\n}"
            }
          },
          "metadata": {},
          "execution_count": 59
        }
      ]
    },
    {
      "cell_type": "code",
      "source": [
        "df.title.head()"
      ],
      "metadata": {
        "colab": {
          "base_uri": "https://localhost:8080/"
        },
        "id": "r5KJlmAaQNdf",
        "outputId": "f6fe39e3-3e11-40e7-ba42-8c7e65243326"
      },
      "execution_count": null,
      "outputs": [
        {
          "output_type": "execute_result",
          "data": {
            "text/plain": [
              "0    House panels seek documents on Puerto Rico uti...\n",
              "1    China says it will stick to commitment to figh...\n",
              "2    Trump taps former NASA head Griffin for deputy...\n",
              "3    Special election to replace Conyers to be held...\n",
              "4    Manafort not a flight risk, lawyers say in cou...\n",
              "Name: title, dtype: object"
            ]
          },
          "metadata": {},
          "execution_count": 62
        }
      ]
    },
    {
      "cell_type": "markdown",
      "source": [
        "# **Preprocessing**"
      ],
      "metadata": {
        "id": "ssWKroj4AP7z"
      }
    },
    {
      "cell_type": "code",
      "source": [
        "len(df.date.unique())"
      ],
      "metadata": {
        "colab": {
          "base_uri": "https://localhost:8080/"
        },
        "id": "mOvAAytFOcqc",
        "outputId": "13d272e5-dfb8-448e-f463-562ebfbbb730"
      },
      "execution_count": null,
      "outputs": [
        {
          "output_type": "execute_result",
          "data": {
            "text/plain": [
              "228"
            ]
          },
          "metadata": {},
          "execution_count": 60
        }
      ]
    },
    {
      "cell_type": "code",
      "source": [
        "# Replacing categorical values with numerical equivalents"
      ],
      "metadata": {
        "id": "Zgbo8n1p8dVC"
      },
      "execution_count": null,
      "outputs": []
    },
    {
      "cell_type": "code",
      "source": [
        "# Using encoder\n",
        "encode=OrdinalEncoder()\n",
        "df.date=encode.fit_transform(df[[\"date\"]])\n"
      ],
      "metadata": {
        "id": "-iPhX6-_sCxe"
      },
      "execution_count": null,
      "outputs": []
    },
    {
      "cell_type": "markdown",
      "source": [
        "# **NLP-Natural Language Processing**"
      ],
      "metadata": {
        "id": "SO0uNtT4O1lH"
      }
    },
    {
      "cell_type": "code",
      "source": [
        "import nltk\n",
        "nltk.download('punkt')\n"
      ],
      "metadata": {
        "colab": {
          "base_uri": "https://localhost:8080/"
        },
        "id": "r5E3zeB1TECV",
        "outputId": "c490e9be-0a68-456a-90ef-725a718a3ba9"
      },
      "execution_count": null,
      "outputs": [
        {
          "output_type": "stream",
          "name": "stderr",
          "text": [
            "[nltk_data] Downloading package punkt to /root/nltk_data...\n",
            "[nltk_data]   Unzipping tokenizers/punkt.zip.\n"
          ]
        },
        {
          "output_type": "execute_result",
          "data": {
            "text/plain": [
              "True"
            ]
          },
          "metadata": {},
          "execution_count": 64
        }
      ]
    },
    {
      "cell_type": "code",
      "source": [
        "nltk.download('stopwords')\n"
      ],
      "metadata": {
        "colab": {
          "base_uri": "https://localhost:8080/"
        },
        "id": "cBd6xJPlOzIM",
        "outputId": "32cee8ce-2f1f-4bef-bee6-3c384b6fc11f"
      },
      "execution_count": null,
      "outputs": [
        {
          "output_type": "stream",
          "name": "stderr",
          "text": [
            "[nltk_data] Downloading package stopwords to /root/nltk_data...\n",
            "[nltk_data]   Unzipping corpora/stopwords.zip.\n"
          ]
        },
        {
          "output_type": "execute_result",
          "data": {
            "text/plain": [
              "True"
            ]
          },
          "metadata": {},
          "execution_count": 65
        }
      ]
    },
    {
      "cell_type": "markdown",
      "source": [
        "# **NLP - For title and text**"
      ],
      "metadata": {
        "id": "zmMgrbHUYRXv"
      }
    },
    {
      "cell_type": "markdown",
      "source": [
        "1.Tokenization: Tokenization involves breaking down a sentence or text into smaller units, such as words or phrases. In Python, you can use libraries like NLTK (Natural Language Toolkit) or spaCy for tokenization. Here's how you can tokenize the 'title' column using NLTK:"
      ],
      "metadata": {
        "id": "kHI1i2UKTmi5"
      }
    },
    {
      "cell_type": "code",
      "source": [
        "#For title\n",
        "import nltk\n",
        "from nltk.tokenize import word_tokenize\n",
        "\n",
        "# Tokenize the 'title' column\n",
        "df['title_tokens'] = df['title'].apply(word_tokenize)\n"
      ],
      "metadata": {
        "id": "eXVn7nt2TRse"
      },
      "execution_count": null,
      "outputs": []
    },
    {
      "cell_type": "code",
      "source": [
        "#For text\n",
        "# Tokenize the 'title' column\n",
        "df['text_tokens'] = df['text'].apply(word_tokenize)\n"
      ],
      "metadata": {
        "id": "qbfCVm0-Ykxz"
      },
      "execution_count": null,
      "outputs": []
    },
    {
      "cell_type": "markdown",
      "source": [
        "2.Lowercasing: Convert all tokens to lowercase to ensure consistency in your text data."
      ],
      "metadata": {
        "id": "WLbPm9T9TtFm"
      }
    },
    {
      "cell_type": "code",
      "source": [
        "# Convert tokens to lowercase\n",
        "df['title_tokens'] = df['title_tokens'].apply(lambda x: [word.lower() for word in x])\n"
      ],
      "metadata": {
        "id": "o5t-NOQrTNsc"
      },
      "execution_count": null,
      "outputs": []
    },
    {
      "cell_type": "code",
      "source": [
        "df['text_tokens'] = df['text_tokens'].apply(lambda x: [word.lower() for word in x])\n"
      ],
      "metadata": {
        "id": "VR86ziNhY2Nt"
      },
      "execution_count": null,
      "outputs": []
    },
    {
      "cell_type": "markdown",
      "source": [
        "3.Removing Stopwords: Stopwords are common words like 'the', 'is', 'and', etc., which don't usually add much meaning to the text. Removing them can help reduce noise in your data."
      ],
      "metadata": {
        "id": "sCPC3ZP5Tu0L"
      }
    },
    {
      "cell_type": "code",
      "source": [
        "from nltk.corpus import stopwords\n",
        "\n",
        "# Download NLTK stopwords\n",
        "nltk.download('stopwords')\n",
        "\n",
        "# Get English stopwords\n",
        "stop_words = set(stopwords.words('english'))\n",
        "\n",
        "# Remove stopwords from tokens\n",
        "df['title_tokens'] = df['title_tokens'].apply(lambda x: [word for word in x if word not in stop_words])\n"
      ],
      "metadata": {
        "colab": {
          "base_uri": "https://localhost:8080/"
        },
        "id": "orWL86qFTXaH",
        "outputId": "48404ed7-d73b-4898-93f6-8b57c55368e8"
      },
      "execution_count": null,
      "outputs": [
        {
          "output_type": "stream",
          "name": "stderr",
          "text": [
            "[nltk_data] Downloading package stopwords to /root/nltk_data...\n",
            "[nltk_data]   Package stopwords is already up-to-date!\n"
          ]
        }
      ]
    },
    {
      "cell_type": "code",
      "source": [
        "# for Text\n",
        "\n",
        "# Download NLTK stopwords\n",
        "nltk.download('stopwords')\n",
        "\n",
        "# Get English stopwords\n",
        "stop_words = set(stopwords.words('english'))\n",
        "\n",
        "# Remove stopwords from tokens\n",
        "df['text_tokens'] = df['text_tokens'].apply(lambda x: [word for word in x if word not in stop_words])\n"
      ],
      "metadata": {
        "colab": {
          "base_uri": "https://localhost:8080/"
        },
        "id": "0aJKVdqgY8fj",
        "outputId": "ed92ea10-4959-43e6-b271-3c9b10e2413c"
      },
      "execution_count": null,
      "outputs": [
        {
          "output_type": "stream",
          "name": "stderr",
          "text": [
            "[nltk_data] Downloading package stopwords to /root/nltk_data...\n",
            "[nltk_data]   Package stopwords is already up-to-date!\n"
          ]
        }
      ]
    },
    {
      "cell_type": "markdown",
      "source": [
        "4.Stemming or Lemmatization: Stemming and Lemmatization are techniques used to reduce words to their root form. NLTK provides modules for both stemming and lemmatization. Here's how you can perform stemming using NLTK:"
      ],
      "metadata": {
        "id": "nE8zzbvETyK-"
      }
    },
    {
      "cell_type": "code",
      "source": [
        "from nltk.stem import PorterStemmer\n",
        "\n",
        "# Initialize the Porter Stemmer\n",
        "porter = PorterStemmer()\n",
        "\n",
        "# Stem the tokens\n",
        "df['title_tokens_stemmed'] = df['title_tokens'].apply(lambda x: [porter.stem(word) for word in x])\n"
      ],
      "metadata": {
        "id": "ZJ2e2rYQTXUz"
      },
      "execution_count": null,
      "outputs": []
    },
    {
      "cell_type": "code",
      "source": [
        "\n",
        "# Initialize the Porter Stemmer\n",
        "porter = PorterStemmer()\n",
        "\n",
        "# Stem the tokens\n",
        "df['text_tokens_stemmed'] = df['text_tokens'].apply(lambda x: [porter.stem(word) for word in x])"
      ],
      "metadata": {
        "id": "Hqi3RS3gZEzz"
      },
      "execution_count": null,
      "outputs": []
    },
    {
      "cell_type": "markdown",
      "source": [
        "5.You can use spaCy library for NER."
      ],
      "metadata": {
        "id": "nK4IZPfgT4Vt"
      }
    },
    {
      "cell_type": "code",
      "source": [
        "df.head()"
      ],
      "metadata": {
        "colab": {
          "base_uri": "https://localhost:8080/",
          "height": 414
        },
        "id": "rBWs5pxnm8wR",
        "outputId": "7c46e5bb-27a5-4308-b87a-565e0218534f"
      },
      "execution_count": null,
      "outputs": [
        {
          "output_type": "execute_result",
          "data": {
            "text/plain": [
              "                                               title  \\\n",
              "0  House panels seek documents on Puerto Rico uti...   \n",
              "1  China says it will stick to commitment to figh...   \n",
              "2  Trump taps former NASA head Griffin for deputy...   \n",
              "3  Special election to replace Conyers to be held...   \n",
              "4  Manafort not a flight risk, lawyers say in cou...   \n",
              "\n",
              "                                                text   date  label  \\\n",
              "0  WASHINGTON (Reuters) - A U.S. congressional co...  161.0      0   \n",
              "1  BEIJING (Reuters) - China said on Friday it wo...   15.0      0   \n",
              "2  WASHINGTON (Reuters) - U.S. President Donald T...  163.0      1   \n",
              "3  WASHINGTON (Reuters) - Michigan Governor Rick ...  204.0      1   \n",
              "4  WASHINGTON (Reuters) - Paul Manafort, a former...  168.0      1   \n",
              "\n",
              "                                        title_tokens  \\\n",
              "0  [House, panels, seek, documents, on, Puerto, R...   \n",
              "1  [China, says, it, will, stick, to, commitment,...   \n",
              "2  [Trump, taps, former, NASA, head, Griffin, for...   \n",
              "3  [Special, election, to, replace, Conyers, to, ...   \n",
              "4  [Manafort, not, a, flight, risk, ,, lawyers, s...   \n",
              "\n",
              "                                title_tokens_stemmed  \\\n",
              "0  [hous, panel, seek, document, on, puerto, rico...   \n",
              "1  [china, say, it, will, stick, to, commit, to, ...   \n",
              "2  [trump, tap, former, nasa, head, griffin, for,...   \n",
              "3  [special, elect, to, replac, conyer, to, be, h...   \n",
              "4  [manafort, not, a, flight, risk, ,, lawyer, sa...   \n",
              "\n",
              "                                      title_entities  \\\n",
              "0                 [(House, ORG), (Puerto Rico, GPE)]   \n",
              "1                                     [(China, GPE)]   \n",
              "2  [(Trump, ORG), (NASA, ORG), (Griffin, GPE), (W...   \n",
              "3             [(Conyers, PERSON), (Nov. 2018, DATE)]   \n",
              "4                                                 []   \n",
              "\n",
              "                                         text_tokens  \\\n",
              "0  [washington, (, reuters, ), -, u.s., congressi...   \n",
              "1  [beijing, (, reuters, ), -, china, said, frida...   \n",
              "2  [washington, (, reuters, ), -, u.s., president...   \n",
              "3  [washington, (, reuters, ), -, michigan, gover...   \n",
              "4  [washington, (, reuters, ), -, paul, manafort,...   \n",
              "\n",
              "                                 text_tokens_stemmed  \n",
              "0  [washington, (, reuter, ), -, u.s., congressio...  \n",
              "1  [beij, (, reuter, ), -, china, said, friday, w...  \n",
              "2  [washington, (, reuter, ), -, u.s., presid, do...  \n",
              "3  [washington, (, reuter, ), -, michigan, govern...  \n",
              "4  [washington, (, reuter, ), -, paul, manafort, ...  "
            ],
            "text/html": [
              "\n",
              "  <div id=\"df-00762a62-0c4e-46e8-a0dd-87f17de1efa7\" class=\"colab-df-container\">\n",
              "    <div>\n",
              "<style scoped>\n",
              "    .dataframe tbody tr th:only-of-type {\n",
              "        vertical-align: middle;\n",
              "    }\n",
              "\n",
              "    .dataframe tbody tr th {\n",
              "        vertical-align: top;\n",
              "    }\n",
              "\n",
              "    .dataframe thead th {\n",
              "        text-align: right;\n",
              "    }\n",
              "</style>\n",
              "<table border=\"1\" class=\"dataframe\">\n",
              "  <thead>\n",
              "    <tr style=\"text-align: right;\">\n",
              "      <th></th>\n",
              "      <th>title</th>\n",
              "      <th>text</th>\n",
              "      <th>date</th>\n",
              "      <th>label</th>\n",
              "      <th>title_tokens</th>\n",
              "      <th>title_tokens_stemmed</th>\n",
              "      <th>title_entities</th>\n",
              "      <th>text_tokens</th>\n",
              "      <th>text_tokens_stemmed</th>\n",
              "    </tr>\n",
              "  </thead>\n",
              "  <tbody>\n",
              "    <tr>\n",
              "      <th>0</th>\n",
              "      <td>House panels seek documents on Puerto Rico uti...</td>\n",
              "      <td>WASHINGTON (Reuters) - A U.S. congressional co...</td>\n",
              "      <td>161.0</td>\n",
              "      <td>0</td>\n",
              "      <td>[House, panels, seek, documents, on, Puerto, R...</td>\n",
              "      <td>[hous, panel, seek, document, on, puerto, rico...</td>\n",
              "      <td>[(House, ORG), (Puerto Rico, GPE)]</td>\n",
              "      <td>[washington, (, reuters, ), -, u.s., congressi...</td>\n",
              "      <td>[washington, (, reuter, ), -, u.s., congressio...</td>\n",
              "    </tr>\n",
              "    <tr>\n",
              "      <th>1</th>\n",
              "      <td>China says it will stick to commitment to figh...</td>\n",
              "      <td>BEIJING (Reuters) - China said on Friday it wo...</td>\n",
              "      <td>15.0</td>\n",
              "      <td>0</td>\n",
              "      <td>[China, says, it, will, stick, to, commitment,...</td>\n",
              "      <td>[china, say, it, will, stick, to, commit, to, ...</td>\n",
              "      <td>[(China, GPE)]</td>\n",
              "      <td>[beijing, (, reuters, ), -, china, said, frida...</td>\n",
              "      <td>[beij, (, reuter, ), -, china, said, friday, w...</td>\n",
              "    </tr>\n",
              "    <tr>\n",
              "      <th>2</th>\n",
              "      <td>Trump taps former NASA head Griffin for deputy...</td>\n",
              "      <td>WASHINGTON (Reuters) - U.S. President Donald T...</td>\n",
              "      <td>163.0</td>\n",
              "      <td>1</td>\n",
              "      <td>[Trump, taps, former, NASA, head, Griffin, for...</td>\n",
              "      <td>[trump, tap, former, nasa, head, griffin, for,...</td>\n",
              "      <td>[(Trump, ORG), (NASA, ORG), (Griffin, GPE), (W...</td>\n",
              "      <td>[washington, (, reuters, ), -, u.s., president...</td>\n",
              "      <td>[washington, (, reuter, ), -, u.s., presid, do...</td>\n",
              "    </tr>\n",
              "    <tr>\n",
              "      <th>3</th>\n",
              "      <td>Special election to replace Conyers to be held...</td>\n",
              "      <td>WASHINGTON (Reuters) - Michigan Governor Rick ...</td>\n",
              "      <td>204.0</td>\n",
              "      <td>1</td>\n",
              "      <td>[Special, election, to, replace, Conyers, to, ...</td>\n",
              "      <td>[special, elect, to, replac, conyer, to, be, h...</td>\n",
              "      <td>[(Conyers, PERSON), (Nov. 2018, DATE)]</td>\n",
              "      <td>[washington, (, reuters, ), -, michigan, gover...</td>\n",
              "      <td>[washington, (, reuter, ), -, michigan, govern...</td>\n",
              "    </tr>\n",
              "    <tr>\n",
              "      <th>4</th>\n",
              "      <td>Manafort not a flight risk, lawyers say in cou...</td>\n",
              "      <td>WASHINGTON (Reuters) - Paul Manafort, a former...</td>\n",
              "      <td>168.0</td>\n",
              "      <td>1</td>\n",
              "      <td>[Manafort, not, a, flight, risk, ,, lawyers, s...</td>\n",
              "      <td>[manafort, not, a, flight, risk, ,, lawyer, sa...</td>\n",
              "      <td>[]</td>\n",
              "      <td>[washington, (, reuters, ), -, paul, manafort,...</td>\n",
              "      <td>[washington, (, reuter, ), -, paul, manafort, ...</td>\n",
              "    </tr>\n",
              "  </tbody>\n",
              "</table>\n",
              "</div>\n",
              "    <div class=\"colab-df-buttons\">\n",
              "\n",
              "  <div class=\"colab-df-container\">\n",
              "    <button class=\"colab-df-convert\" onclick=\"convertToInteractive('df-00762a62-0c4e-46e8-a0dd-87f17de1efa7')\"\n",
              "            title=\"Convert this dataframe to an interactive table.\"\n",
              "            style=\"display:none;\">\n",
              "\n",
              "  <svg xmlns=\"http://www.w3.org/2000/svg\" height=\"24px\" viewBox=\"0 -960 960 960\">\n",
              "    <path d=\"M120-120v-720h720v720H120Zm60-500h600v-160H180v160Zm220 220h160v-160H400v160Zm0 220h160v-160H400v160ZM180-400h160v-160H180v160Zm440 0h160v-160H620v160ZM180-180h160v-160H180v160Zm440 0h160v-160H620v160Z\"/>\n",
              "  </svg>\n",
              "    </button>\n",
              "\n",
              "  <style>\n",
              "    .colab-df-container {\n",
              "      display:flex;\n",
              "      gap: 12px;\n",
              "    }\n",
              "\n",
              "    .colab-df-convert {\n",
              "      background-color: #E8F0FE;\n",
              "      border: none;\n",
              "      border-radius: 50%;\n",
              "      cursor: pointer;\n",
              "      display: none;\n",
              "      fill: #1967D2;\n",
              "      height: 32px;\n",
              "      padding: 0 0 0 0;\n",
              "      width: 32px;\n",
              "    }\n",
              "\n",
              "    .colab-df-convert:hover {\n",
              "      background-color: #E2EBFA;\n",
              "      box-shadow: 0px 1px 2px rgba(60, 64, 67, 0.3), 0px 1px 3px 1px rgba(60, 64, 67, 0.15);\n",
              "      fill: #174EA6;\n",
              "    }\n",
              "\n",
              "    .colab-df-buttons div {\n",
              "      margin-bottom: 4px;\n",
              "    }\n",
              "\n",
              "    [theme=dark] .colab-df-convert {\n",
              "      background-color: #3B4455;\n",
              "      fill: #D2E3FC;\n",
              "    }\n",
              "\n",
              "    [theme=dark] .colab-df-convert:hover {\n",
              "      background-color: #434B5C;\n",
              "      box-shadow: 0px 1px 3px 1px rgba(0, 0, 0, 0.15);\n",
              "      filter: drop-shadow(0px 1px 2px rgba(0, 0, 0, 0.3));\n",
              "      fill: #FFFFFF;\n",
              "    }\n",
              "  </style>\n",
              "\n",
              "    <script>\n",
              "      const buttonEl =\n",
              "        document.querySelector('#df-00762a62-0c4e-46e8-a0dd-87f17de1efa7 button.colab-df-convert');\n",
              "      buttonEl.style.display =\n",
              "        google.colab.kernel.accessAllowed ? 'block' : 'none';\n",
              "\n",
              "      async function convertToInteractive(key) {\n",
              "        const element = document.querySelector('#df-00762a62-0c4e-46e8-a0dd-87f17de1efa7');\n",
              "        const dataTable =\n",
              "          await google.colab.kernel.invokeFunction('convertToInteractive',\n",
              "                                                    [key], {});\n",
              "        if (!dataTable) return;\n",
              "\n",
              "        const docLinkHtml = 'Like what you see? Visit the ' +\n",
              "          '<a target=\"_blank\" href=https://colab.research.google.com/notebooks/data_table.ipynb>data table notebook</a>'\n",
              "          + ' to learn more about interactive tables.';\n",
              "        element.innerHTML = '';\n",
              "        dataTable['output_type'] = 'display_data';\n",
              "        await google.colab.output.renderOutput(dataTable, element);\n",
              "        const docLink = document.createElement('div');\n",
              "        docLink.innerHTML = docLinkHtml;\n",
              "        element.appendChild(docLink);\n",
              "      }\n",
              "    </script>\n",
              "  </div>\n",
              "\n",
              "\n",
              "<div id=\"df-0905b0c4-b7fb-4008-a6b1-cd0f337a626b\">\n",
              "  <button class=\"colab-df-quickchart\" onclick=\"quickchart('df-0905b0c4-b7fb-4008-a6b1-cd0f337a626b')\"\n",
              "            title=\"Suggest charts\"\n",
              "            style=\"display:none;\">\n",
              "\n",
              "<svg xmlns=\"http://www.w3.org/2000/svg\" height=\"24px\"viewBox=\"0 0 24 24\"\n",
              "     width=\"24px\">\n",
              "    <g>\n",
              "        <path d=\"M19 3H5c-1.1 0-2 .9-2 2v14c0 1.1.9 2 2 2h14c1.1 0 2-.9 2-2V5c0-1.1-.9-2-2-2zM9 17H7v-7h2v7zm4 0h-2V7h2v10zm4 0h-2v-4h2v4z\"/>\n",
              "    </g>\n",
              "</svg>\n",
              "  </button>\n",
              "\n",
              "<style>\n",
              "  .colab-df-quickchart {\n",
              "      --bg-color: #E8F0FE;\n",
              "      --fill-color: #1967D2;\n",
              "      --hover-bg-color: #E2EBFA;\n",
              "      --hover-fill-color: #174EA6;\n",
              "      --disabled-fill-color: #AAA;\n",
              "      --disabled-bg-color: #DDD;\n",
              "  }\n",
              "\n",
              "  [theme=dark] .colab-df-quickchart {\n",
              "      --bg-color: #3B4455;\n",
              "      --fill-color: #D2E3FC;\n",
              "      --hover-bg-color: #434B5C;\n",
              "      --hover-fill-color: #FFFFFF;\n",
              "      --disabled-bg-color: #3B4455;\n",
              "      --disabled-fill-color: #666;\n",
              "  }\n",
              "\n",
              "  .colab-df-quickchart {\n",
              "    background-color: var(--bg-color);\n",
              "    border: none;\n",
              "    border-radius: 50%;\n",
              "    cursor: pointer;\n",
              "    display: none;\n",
              "    fill: var(--fill-color);\n",
              "    height: 32px;\n",
              "    padding: 0;\n",
              "    width: 32px;\n",
              "  }\n",
              "\n",
              "  .colab-df-quickchart:hover {\n",
              "    background-color: var(--hover-bg-color);\n",
              "    box-shadow: 0 1px 2px rgba(60, 64, 67, 0.3), 0 1px 3px 1px rgba(60, 64, 67, 0.15);\n",
              "    fill: var(--button-hover-fill-color);\n",
              "  }\n",
              "\n",
              "  .colab-df-quickchart-complete:disabled,\n",
              "  .colab-df-quickchart-complete:disabled:hover {\n",
              "    background-color: var(--disabled-bg-color);\n",
              "    fill: var(--disabled-fill-color);\n",
              "    box-shadow: none;\n",
              "  }\n",
              "\n",
              "  .colab-df-spinner {\n",
              "    border: 2px solid var(--fill-color);\n",
              "    border-color: transparent;\n",
              "    border-bottom-color: var(--fill-color);\n",
              "    animation:\n",
              "      spin 1s steps(1) infinite;\n",
              "  }\n",
              "\n",
              "  @keyframes spin {\n",
              "    0% {\n",
              "      border-color: transparent;\n",
              "      border-bottom-color: var(--fill-color);\n",
              "      border-left-color: var(--fill-color);\n",
              "    }\n",
              "    20% {\n",
              "      border-color: transparent;\n",
              "      border-left-color: var(--fill-color);\n",
              "      border-top-color: var(--fill-color);\n",
              "    }\n",
              "    30% {\n",
              "      border-color: transparent;\n",
              "      border-left-color: var(--fill-color);\n",
              "      border-top-color: var(--fill-color);\n",
              "      border-right-color: var(--fill-color);\n",
              "    }\n",
              "    40% {\n",
              "      border-color: transparent;\n",
              "      border-right-color: var(--fill-color);\n",
              "      border-top-color: var(--fill-color);\n",
              "    }\n",
              "    60% {\n",
              "      border-color: transparent;\n",
              "      border-right-color: var(--fill-color);\n",
              "    }\n",
              "    80% {\n",
              "      border-color: transparent;\n",
              "      border-right-color: var(--fill-color);\n",
              "      border-bottom-color: var(--fill-color);\n",
              "    }\n",
              "    90% {\n",
              "      border-color: transparent;\n",
              "      border-bottom-color: var(--fill-color);\n",
              "    }\n",
              "  }\n",
              "</style>\n",
              "\n",
              "  <script>\n",
              "    async function quickchart(key) {\n",
              "      const quickchartButtonEl =\n",
              "        document.querySelector('#' + key + ' button');\n",
              "      quickchartButtonEl.disabled = true;  // To prevent multiple clicks.\n",
              "      quickchartButtonEl.classList.add('colab-df-spinner');\n",
              "      try {\n",
              "        const charts = await google.colab.kernel.invokeFunction(\n",
              "            'suggestCharts', [key], {});\n",
              "      } catch (error) {\n",
              "        console.error('Error during call to suggestCharts:', error);\n",
              "      }\n",
              "      quickchartButtonEl.classList.remove('colab-df-spinner');\n",
              "      quickchartButtonEl.classList.add('colab-df-quickchart-complete');\n",
              "    }\n",
              "    (() => {\n",
              "      let quickchartButtonEl =\n",
              "        document.querySelector('#df-0905b0c4-b7fb-4008-a6b1-cd0f337a626b button');\n",
              "      quickchartButtonEl.style.display =\n",
              "        google.colab.kernel.accessAllowed ? 'block' : 'none';\n",
              "    })();\n",
              "  </script>\n",
              "</div>\n",
              "\n",
              "    </div>\n",
              "  </div>\n"
            ],
            "application/vnd.google.colaboratory.intrinsic+json": {
              "type": "dataframe",
              "variable_name": "df",
              "summary": "{\n  \"name\": \"df\",\n  \"rows\": 7376,\n  \"fields\": [\n    {\n      \"column\": \"title\",\n      \"properties\": {\n        \"dtype\": \"category\",\n        \"num_unique_values\": 3684,\n        \"samples\": [\n          \"Factbox: Trump on Twitter (Dec 1) - Kate Steinle, Tax cuts, Rex Tillerson\",\n          \"Trump says will announce decision on Paris climate deal soon\",\n          \"Energy Secretary Perry cancels Kazakhstan visit due to hurricane\"\n        ],\n        \"semantic_type\": \"\",\n        \"description\": \"\"\n      }\n    },\n    {\n      \"column\": \"text\",\n      \"properties\": {\n        \"dtype\": \"category\",\n        \"num_unique_values\": 3686,\n        \"samples\": [\n          \"PARIS (Reuters) - France\\u2019s foreign ministry on Wednesday said new U.S. sanctions against Iran, Russia and North Korea appeared at odds with international law due to their extra-territorial reach. The U.S. House of Representatives voted overwhelmingly on Tuesday for these sanctions, which could affect European firms. The foreign ministry said in a statement that French and European laws would need to be adjusted in response and added that discussions would be necessary at European Union level because of the potential impact on European citizens and firms. \",\n          \"WASHINGTON (Reuters) - U.S. Treasury Secretary Steven Mnuchin on Thursday pledged to treat \\u201cvery seriously\\u201d any business dealings President Donald Trump or his family might have with foreign companies flagged by officials as national security risks. Mnuchin did not say any such cases existed. A senior Democrat pressed Mnuchin, in an appearance before senators, to produce a list of the Trump family\\u2019s business relationships with foreign companies.  Senator Sherrod Brown, the top Democrat on the Senate Banking Committee, said Mnuchin had not adequately responded to his March 2 letter asking if the Treasury had a list of Trump\\u2019s business partners to see if any of them were on sanctions lists or had been investigated by a national security watchdog that analyzes foreign investments. The Treasury released a copy of a March 31 letter responding to Brown which said the department works with other agencies \\u201cto address and mitigate potential conflicts of interest if and when they arise.\\u201d Mnuchin said he reviewed cases at the Committee on Foreign Investment in the United States (CFIUS) every week. The Treasury is the lead department among the government agencies that are part of CFIUS.  \\u201cI can assure you that if there were any cases that involve the president or any members of his family that they would be treated very seriously. We would review them as we would anything else,\\u201d Mnuchin told the Senate panel. Trump, a wealthy real estate developer, has declined to sell his global businesses despite demands from critics that he do so to avoid conflicts of interest. Trump has said his two oldest sons will have daily control of his businesses while he is president.  A Reuters review in March found that at least 63 individuals with Russian passports or addresses have bought at least $98.4 million worth of property in seven Trump-branded luxury towers in southern Florida. \",\n          \"WASHINGTON (Reuters) - The departure on Friday of Steve Bannon, the White House\\u2019s top economic nationalist, will likely tip the trade policy scales in favor of the Trump administration\\u2019s \\u201cglobalist\\u201d faction, which could soften the stance toward two of Trump\\u2019s favorite targets: China and the North American Free Trade Agreement. But after news that Trump had fired Bannon from his post as chief strategist, trade experts said it may take some time for National Economic Council Chairman Gary Cohn, Treasury Secretary Steven Mnuchin and Agriculture Secretary Sonny Perdue to start winning more debates on trade policy. Bannon and White House Trade and Manufacturing Office director Peter Navarro were often allied in taking hardline anti-China stances over currency manipulation, steel tariffs and other trade issues, often opposed to Cohn, Mnuchin and Perdue, according to lobbyists who been involved in the debates. The Cohn-led group proved more influential in the administration\\u2019s decisions in April not to label China a currency manipulator and to renegotiate the North American Free Trade Agreement instead of terminating it.  More recently, they have pushed for a delay in a decision on the imposition of broad steel tariffs.     With Bannon gone, \\u201cthere\\u2019s not a replacement for that voice in internal debates,\\u201d said a senior administration official who was not authorized to speak publicly on the issue. \\u201cWithout Steve constantly pushing back on every policy idea coming from the so called \\u201cglobalists,\\u201d it\\u2019s easy to see how they could have a chance to start winning more policy battles,\\u201d the official said. In the short term, the trade policy trajectory won\\u2019t change much, said Derek Scissors, a China trade expert at the American Enterprise Institute, a pro-business conservative think tank in Washington. Many of Trump\\u2019s views on trade pre-dated Bannon\\u2019s arrival on his campaign in any case. The U.S. Trade Representative\\u2019s office announced on Friday that it will proceed with a planned investigation into whether China is misappropriating U.S. technology and intellectual property through unreasonable investment rules. Scissors said Bannon\\u2019s departure will show in what decisions the administration makes following a year-long study of the issue.   \\u201cIt\\u2019s about the final choices on do we go forward with these very difficult sanctions on the Chinese or do we look to make a tradeoff on a security issue, and Bannon would have been in the first camp,\\u201d Scissors said. The struggle for influence in Trump\\u2019s White House \\u201chas been something of a battle between the finance guys and the economic nationalists, and the most important economic nationalist just left,\\u201d Scissors added. The offices of USTR Robert Lighthizer and Commerce Secretary Wilbur Ross, who have been pushing for stronger trade policies to reduce U.S. trade deficits with China, Mexico and other countries, declined to comment on Bannon\\u2019s departure, referring policy questions to the White House. But industry lobbyists, who have been whipsawed by economic policy twists over trade and an ill-fated border tax proposal, were skeptical that much would change.  Two lobbyists on the sidelines of NAFTA talks in Washington said that even without Bannon, they will assume the status quo on trade policy as long as fierce China critic Navarro is in the White House. Bonnie Glaser, senior adviser for Asia at the Center for Strategic and International Studies, said the administration\\u2019s efforts to develop an effective strategy to retaliate against China\\u2019s unfair trade practices will survive, largely because there is a widely held view in the administration and the corporate sector that China\\u2019s trade practices are a problem. \\u201cI doubt this effort will evaporate, though it may evolve,\\u201d she said. \"\n        ],\n        \"semantic_type\": \"\",\n        \"description\": \"\"\n      }\n    },\n    {\n      \"column\": \"date\",\n      \"properties\": {\n        \"dtype\": \"number\",\n        \"std\": 64.330271789606,\n        \"min\": 0.0,\n        \"max\": 227.0,\n        \"num_unique_values\": 228,\n        \"samples\": [\n          37.0,\n          39.0,\n          29.0\n        ],\n        \"semantic_type\": \"\",\n        \"description\": \"\"\n      }\n    },\n    {\n      \"column\": \"label\",\n      \"properties\": {\n        \"dtype\": \"number\",\n        \"std\": 0,\n        \"min\": 0,\n        \"max\": 1,\n        \"num_unique_values\": 2,\n        \"samples\": [\n          1,\n          0\n        ],\n        \"semantic_type\": \"\",\n        \"description\": \"\"\n      }\n    },\n    {\n      \"column\": \"title_tokens\",\n      \"properties\": {\n        \"dtype\": \"object\",\n        \"semantic_type\": \"\",\n        \"description\": \"\"\n      }\n    },\n    {\n      \"column\": \"title_tokens_stemmed\",\n      \"properties\": {\n        \"dtype\": \"object\",\n        \"semantic_type\": \"\",\n        \"description\": \"\"\n      }\n    },\n    {\n      \"column\": \"title_entities\",\n      \"properties\": {\n        \"dtype\": \"object\",\n        \"semantic_type\": \"\",\n        \"description\": \"\"\n      }\n    },\n    {\n      \"column\": \"text_tokens\",\n      \"properties\": {\n        \"dtype\": \"object\",\n        \"semantic_type\": \"\",\n        \"description\": \"\"\n      }\n    },\n    {\n      \"column\": \"text_tokens_stemmed\",\n      \"properties\": {\n        \"dtype\": \"object\",\n        \"semantic_type\": \"\",\n        \"description\": \"\"\n      }\n    }\n  ]\n}"
            }
          },
          "metadata": {},
          "execution_count": 97
        }
      ]
    },
    {
      "cell_type": "code",
      "source": [
        "nlp = spacy.load(\"en_core_web_sm\")\n",
        "\n",
        "# Concatenate the tokenized words for each title into a single string\n",
        "title_texts = [' '.join(tokens) for tokens in df['title_tokens_stemmed']]\n",
        "\n",
        "# Process each title text using spaCy\n",
        "docs = [nlp(text) for text in title_texts]"
      ],
      "metadata": {
        "id": "qMtQdSAgtJP6"
      },
      "execution_count": null,
      "outputs": []
    },
    {
      "cell_type": "code",
      "source": [
        "title_new = [i.vector for i in doc]\n",
        "title_new"
      ],
      "metadata": {
        "id": "WN9YynKbX7lj"
      },
      "execution_count": null,
      "outputs": []
    },
    {
      "cell_type": "code",
      "source": [
        "nlp = spacy.load(\"en_core_web_sm\")\n",
        "\n",
        "# Concatenate the tokenized words for each title into a single string\n",
        "text_texts = [' '.join(tokens) for tokens in df['text_tokens_stemmed']]\n",
        "\n",
        "# Process each title text using spaCy\n",
        "docs = [nlp(text) for text in text_texts]"
      ],
      "metadata": {
        "id": "ddTU_2XJYJ1Z"
      },
      "execution_count": null,
      "outputs": []
    },
    {
      "cell_type": "code",
      "source": [
        "text_new = [i.vector for i in docs]\n",
        "text_new"
      ],
      "metadata": {
        "id": "HO8Gh12LZudQ"
      },
      "execution_count": null,
      "outputs": []
    },
    {
      "cell_type": "code",
      "source": [
        "import pandas as pd\n",
        "\n",
        "# Assuming title_new and text_new are NumPy arrays or sparse matrices\n",
        "\n",
        "# Convert arrays to DataFrames if needed\n",
        "title_df = pd.DataFrame(title_new.toarray() if hasattr(title_new, 'toarray') else title_new)\n",
        "text_df = pd.DataFrame(text_new.toarray() if hasattr(text_new, 'toarray') else text_new)\n",
        "\n",
        "# Concatenate DataFrames along with 'date' column from df\n",
        "x = pd.concat([title_df, text_df, df[['date']]], axis=1)"
      ],
      "metadata": {
        "id": "KsO9ZVn51e9r"
      },
      "execution_count": null,
      "outputs": []
    },
    {
      "cell_type": "code",
      "source": [
        "x.columns = x.columns.astype(str)\n",
        "y = df['label']"
      ],
      "metadata": {
        "id": "8IonlX9M1lzS"
      },
      "execution_count": 141,
      "outputs": []
    },
    {
      "cell_type": "code",
      "source": [
        "x.head()"
      ],
      "metadata": {
        "colab": {
          "base_uri": "https://localhost:8080/",
          "height": 256
        },
        "id": "YgbUBJMS1oNk",
        "outputId": "71c9e4ce-f159-43b4-a071-0b4590c96711"
      },
      "execution_count": 130,
      "outputs": [
        {
          "output_type": "execute_result",
          "data": {
            "text/plain": [
              "          0         1         2         3         4         5         6  \\\n",
              "0  0.062292 -0.240766 -0.114613  0.081521  0.173384  0.177070  0.243196   \n",
              "1 -0.092216 -0.398092 -0.014901 -0.053504  0.021949  0.089423  0.492571   \n",
              "2  0.135097 -0.309909 -0.162029 -0.026844  0.175462  0.468205  0.188268   \n",
              "3 -0.178585 -0.312353 -0.149431 -0.161390  0.143911  0.274770  0.189124   \n",
              "4 -0.052681 -0.298407 -0.075197  0.137153  0.072623  0.367090  0.279101   \n",
              "\n",
              "          7         8         9  ...        87        88        89        90  \\\n",
              "0  0.248854  0.193122  0.264535  ... -0.054893 -0.711344  0.530173 -0.056914   \n",
              "1  0.192602  0.056419  0.337301  ... -0.125886 -0.910401  0.685266  0.025996   \n",
              "2  0.276899  0.110816  0.210488  ...  0.170920 -0.642709  0.734370  0.069650   \n",
              "3  0.334541 -0.068834  0.177141  ... -0.003720 -0.637527  0.594833 -0.017873   \n",
              "4  0.312918  0.035917  0.204663  ...  0.033752 -0.560174  0.492220 -0.013337   \n",
              "\n",
              "         91        92        93        94        95   date  \n",
              "0  0.090405  0.740822  0.435782 -0.013318  0.231883  161.0  \n",
              "1  0.040143  0.832163  0.447345 -0.033041  0.255425   15.0  \n",
              "2  0.140341  0.862321  0.519000 -0.077981  0.420276  163.0  \n",
              "3  0.085869  0.606583  0.498092  0.142169  0.207077  204.0  \n",
              "4  0.286031  0.791390  0.480685 -0.177728  0.244335  168.0  \n",
              "\n",
              "[5 rows x 193 columns]"
            ],
            "text/html": [
              "\n",
              "  <div id=\"df-3e1ddf2d-11dc-4872-99d6-6ba3265fd446\" class=\"colab-df-container\">\n",
              "    <div>\n",
              "<style scoped>\n",
              "    .dataframe tbody tr th:only-of-type {\n",
              "        vertical-align: middle;\n",
              "    }\n",
              "\n",
              "    .dataframe tbody tr th {\n",
              "        vertical-align: top;\n",
              "    }\n",
              "\n",
              "    .dataframe thead th {\n",
              "        text-align: right;\n",
              "    }\n",
              "</style>\n",
              "<table border=\"1\" class=\"dataframe\">\n",
              "  <thead>\n",
              "    <tr style=\"text-align: right;\">\n",
              "      <th></th>\n",
              "      <th>0</th>\n",
              "      <th>1</th>\n",
              "      <th>2</th>\n",
              "      <th>3</th>\n",
              "      <th>4</th>\n",
              "      <th>5</th>\n",
              "      <th>6</th>\n",
              "      <th>7</th>\n",
              "      <th>8</th>\n",
              "      <th>9</th>\n",
              "      <th>...</th>\n",
              "      <th>87</th>\n",
              "      <th>88</th>\n",
              "      <th>89</th>\n",
              "      <th>90</th>\n",
              "      <th>91</th>\n",
              "      <th>92</th>\n",
              "      <th>93</th>\n",
              "      <th>94</th>\n",
              "      <th>95</th>\n",
              "      <th>date</th>\n",
              "    </tr>\n",
              "  </thead>\n",
              "  <tbody>\n",
              "    <tr>\n",
              "      <th>0</th>\n",
              "      <td>0.062292</td>\n",
              "      <td>-0.240766</td>\n",
              "      <td>-0.114613</td>\n",
              "      <td>0.081521</td>\n",
              "      <td>0.173384</td>\n",
              "      <td>0.177070</td>\n",
              "      <td>0.243196</td>\n",
              "      <td>0.248854</td>\n",
              "      <td>0.193122</td>\n",
              "      <td>0.264535</td>\n",
              "      <td>...</td>\n",
              "      <td>-0.054893</td>\n",
              "      <td>-0.711344</td>\n",
              "      <td>0.530173</td>\n",
              "      <td>-0.056914</td>\n",
              "      <td>0.090405</td>\n",
              "      <td>0.740822</td>\n",
              "      <td>0.435782</td>\n",
              "      <td>-0.013318</td>\n",
              "      <td>0.231883</td>\n",
              "      <td>161.0</td>\n",
              "    </tr>\n",
              "    <tr>\n",
              "      <th>1</th>\n",
              "      <td>-0.092216</td>\n",
              "      <td>-0.398092</td>\n",
              "      <td>-0.014901</td>\n",
              "      <td>-0.053504</td>\n",
              "      <td>0.021949</td>\n",
              "      <td>0.089423</td>\n",
              "      <td>0.492571</td>\n",
              "      <td>0.192602</td>\n",
              "      <td>0.056419</td>\n",
              "      <td>0.337301</td>\n",
              "      <td>...</td>\n",
              "      <td>-0.125886</td>\n",
              "      <td>-0.910401</td>\n",
              "      <td>0.685266</td>\n",
              "      <td>0.025996</td>\n",
              "      <td>0.040143</td>\n",
              "      <td>0.832163</td>\n",
              "      <td>0.447345</td>\n",
              "      <td>-0.033041</td>\n",
              "      <td>0.255425</td>\n",
              "      <td>15.0</td>\n",
              "    </tr>\n",
              "    <tr>\n",
              "      <th>2</th>\n",
              "      <td>0.135097</td>\n",
              "      <td>-0.309909</td>\n",
              "      <td>-0.162029</td>\n",
              "      <td>-0.026844</td>\n",
              "      <td>0.175462</td>\n",
              "      <td>0.468205</td>\n",
              "      <td>0.188268</td>\n",
              "      <td>0.276899</td>\n",
              "      <td>0.110816</td>\n",
              "      <td>0.210488</td>\n",
              "      <td>...</td>\n",
              "      <td>0.170920</td>\n",
              "      <td>-0.642709</td>\n",
              "      <td>0.734370</td>\n",
              "      <td>0.069650</td>\n",
              "      <td>0.140341</td>\n",
              "      <td>0.862321</td>\n",
              "      <td>0.519000</td>\n",
              "      <td>-0.077981</td>\n",
              "      <td>0.420276</td>\n",
              "      <td>163.0</td>\n",
              "    </tr>\n",
              "    <tr>\n",
              "      <th>3</th>\n",
              "      <td>-0.178585</td>\n",
              "      <td>-0.312353</td>\n",
              "      <td>-0.149431</td>\n",
              "      <td>-0.161390</td>\n",
              "      <td>0.143911</td>\n",
              "      <td>0.274770</td>\n",
              "      <td>0.189124</td>\n",
              "      <td>0.334541</td>\n",
              "      <td>-0.068834</td>\n",
              "      <td>0.177141</td>\n",
              "      <td>...</td>\n",
              "      <td>-0.003720</td>\n",
              "      <td>-0.637527</td>\n",
              "      <td>0.594833</td>\n",
              "      <td>-0.017873</td>\n",
              "      <td>0.085869</td>\n",
              "      <td>0.606583</td>\n",
              "      <td>0.498092</td>\n",
              "      <td>0.142169</td>\n",
              "      <td>0.207077</td>\n",
              "      <td>204.0</td>\n",
              "    </tr>\n",
              "    <tr>\n",
              "      <th>4</th>\n",
              "      <td>-0.052681</td>\n",
              "      <td>-0.298407</td>\n",
              "      <td>-0.075197</td>\n",
              "      <td>0.137153</td>\n",
              "      <td>0.072623</td>\n",
              "      <td>0.367090</td>\n",
              "      <td>0.279101</td>\n",
              "      <td>0.312918</td>\n",
              "      <td>0.035917</td>\n",
              "      <td>0.204663</td>\n",
              "      <td>...</td>\n",
              "      <td>0.033752</td>\n",
              "      <td>-0.560174</td>\n",
              "      <td>0.492220</td>\n",
              "      <td>-0.013337</td>\n",
              "      <td>0.286031</td>\n",
              "      <td>0.791390</td>\n",
              "      <td>0.480685</td>\n",
              "      <td>-0.177728</td>\n",
              "      <td>0.244335</td>\n",
              "      <td>168.0</td>\n",
              "    </tr>\n",
              "  </tbody>\n",
              "</table>\n",
              "<p>5 rows × 193 columns</p>\n",
              "</div>\n",
              "    <div class=\"colab-df-buttons\">\n",
              "\n",
              "  <div class=\"colab-df-container\">\n",
              "    <button class=\"colab-df-convert\" onclick=\"convertToInteractive('df-3e1ddf2d-11dc-4872-99d6-6ba3265fd446')\"\n",
              "            title=\"Convert this dataframe to an interactive table.\"\n",
              "            style=\"display:none;\">\n",
              "\n",
              "  <svg xmlns=\"http://www.w3.org/2000/svg\" height=\"24px\" viewBox=\"0 -960 960 960\">\n",
              "    <path d=\"M120-120v-720h720v720H120Zm60-500h600v-160H180v160Zm220 220h160v-160H400v160Zm0 220h160v-160H400v160ZM180-400h160v-160H180v160Zm440 0h160v-160H620v160ZM180-180h160v-160H180v160Zm440 0h160v-160H620v160Z\"/>\n",
              "  </svg>\n",
              "    </button>\n",
              "\n",
              "  <style>\n",
              "    .colab-df-container {\n",
              "      display:flex;\n",
              "      gap: 12px;\n",
              "    }\n",
              "\n",
              "    .colab-df-convert {\n",
              "      background-color: #E8F0FE;\n",
              "      border: none;\n",
              "      border-radius: 50%;\n",
              "      cursor: pointer;\n",
              "      display: none;\n",
              "      fill: #1967D2;\n",
              "      height: 32px;\n",
              "      padding: 0 0 0 0;\n",
              "      width: 32px;\n",
              "    }\n",
              "\n",
              "    .colab-df-convert:hover {\n",
              "      background-color: #E2EBFA;\n",
              "      box-shadow: 0px 1px 2px rgba(60, 64, 67, 0.3), 0px 1px 3px 1px rgba(60, 64, 67, 0.15);\n",
              "      fill: #174EA6;\n",
              "    }\n",
              "\n",
              "    .colab-df-buttons div {\n",
              "      margin-bottom: 4px;\n",
              "    }\n",
              "\n",
              "    [theme=dark] .colab-df-convert {\n",
              "      background-color: #3B4455;\n",
              "      fill: #D2E3FC;\n",
              "    }\n",
              "\n",
              "    [theme=dark] .colab-df-convert:hover {\n",
              "      background-color: #434B5C;\n",
              "      box-shadow: 0px 1px 3px 1px rgba(0, 0, 0, 0.15);\n",
              "      filter: drop-shadow(0px 1px 2px rgba(0, 0, 0, 0.3));\n",
              "      fill: #FFFFFF;\n",
              "    }\n",
              "  </style>\n",
              "\n",
              "    <script>\n",
              "      const buttonEl =\n",
              "        document.querySelector('#df-3e1ddf2d-11dc-4872-99d6-6ba3265fd446 button.colab-df-convert');\n",
              "      buttonEl.style.display =\n",
              "        google.colab.kernel.accessAllowed ? 'block' : 'none';\n",
              "\n",
              "      async function convertToInteractive(key) {\n",
              "        const element = document.querySelector('#df-3e1ddf2d-11dc-4872-99d6-6ba3265fd446');\n",
              "        const dataTable =\n",
              "          await google.colab.kernel.invokeFunction('convertToInteractive',\n",
              "                                                    [key], {});\n",
              "        if (!dataTable) return;\n",
              "\n",
              "        const docLinkHtml = 'Like what you see? Visit the ' +\n",
              "          '<a target=\"_blank\" href=https://colab.research.google.com/notebooks/data_table.ipynb>data table notebook</a>'\n",
              "          + ' to learn more about interactive tables.';\n",
              "        element.innerHTML = '';\n",
              "        dataTable['output_type'] = 'display_data';\n",
              "        await google.colab.output.renderOutput(dataTable, element);\n",
              "        const docLink = document.createElement('div');\n",
              "        docLink.innerHTML = docLinkHtml;\n",
              "        element.appendChild(docLink);\n",
              "      }\n",
              "    </script>\n",
              "  </div>\n",
              "\n",
              "\n",
              "<div id=\"df-73f34b1d-f852-429a-b4f5-ce9bc85e60b9\">\n",
              "  <button class=\"colab-df-quickchart\" onclick=\"quickchart('df-73f34b1d-f852-429a-b4f5-ce9bc85e60b9')\"\n",
              "            title=\"Suggest charts\"\n",
              "            style=\"display:none;\">\n",
              "\n",
              "<svg xmlns=\"http://www.w3.org/2000/svg\" height=\"24px\"viewBox=\"0 0 24 24\"\n",
              "     width=\"24px\">\n",
              "    <g>\n",
              "        <path d=\"M19 3H5c-1.1 0-2 .9-2 2v14c0 1.1.9 2 2 2h14c1.1 0 2-.9 2-2V5c0-1.1-.9-2-2-2zM9 17H7v-7h2v7zm4 0h-2V7h2v10zm4 0h-2v-4h2v4z\"/>\n",
              "    </g>\n",
              "</svg>\n",
              "  </button>\n",
              "\n",
              "<style>\n",
              "  .colab-df-quickchart {\n",
              "      --bg-color: #E8F0FE;\n",
              "      --fill-color: #1967D2;\n",
              "      --hover-bg-color: #E2EBFA;\n",
              "      --hover-fill-color: #174EA6;\n",
              "      --disabled-fill-color: #AAA;\n",
              "      --disabled-bg-color: #DDD;\n",
              "  }\n",
              "\n",
              "  [theme=dark] .colab-df-quickchart {\n",
              "      --bg-color: #3B4455;\n",
              "      --fill-color: #D2E3FC;\n",
              "      --hover-bg-color: #434B5C;\n",
              "      --hover-fill-color: #FFFFFF;\n",
              "      --disabled-bg-color: #3B4455;\n",
              "      --disabled-fill-color: #666;\n",
              "  }\n",
              "\n",
              "  .colab-df-quickchart {\n",
              "    background-color: var(--bg-color);\n",
              "    border: none;\n",
              "    border-radius: 50%;\n",
              "    cursor: pointer;\n",
              "    display: none;\n",
              "    fill: var(--fill-color);\n",
              "    height: 32px;\n",
              "    padding: 0;\n",
              "    width: 32px;\n",
              "  }\n",
              "\n",
              "  .colab-df-quickchart:hover {\n",
              "    background-color: var(--hover-bg-color);\n",
              "    box-shadow: 0 1px 2px rgba(60, 64, 67, 0.3), 0 1px 3px 1px rgba(60, 64, 67, 0.15);\n",
              "    fill: var(--button-hover-fill-color);\n",
              "  }\n",
              "\n",
              "  .colab-df-quickchart-complete:disabled,\n",
              "  .colab-df-quickchart-complete:disabled:hover {\n",
              "    background-color: var(--disabled-bg-color);\n",
              "    fill: var(--disabled-fill-color);\n",
              "    box-shadow: none;\n",
              "  }\n",
              "\n",
              "  .colab-df-spinner {\n",
              "    border: 2px solid var(--fill-color);\n",
              "    border-color: transparent;\n",
              "    border-bottom-color: var(--fill-color);\n",
              "    animation:\n",
              "      spin 1s steps(1) infinite;\n",
              "  }\n",
              "\n",
              "  @keyframes spin {\n",
              "    0% {\n",
              "      border-color: transparent;\n",
              "      border-bottom-color: var(--fill-color);\n",
              "      border-left-color: var(--fill-color);\n",
              "    }\n",
              "    20% {\n",
              "      border-color: transparent;\n",
              "      border-left-color: var(--fill-color);\n",
              "      border-top-color: var(--fill-color);\n",
              "    }\n",
              "    30% {\n",
              "      border-color: transparent;\n",
              "      border-left-color: var(--fill-color);\n",
              "      border-top-color: var(--fill-color);\n",
              "      border-right-color: var(--fill-color);\n",
              "    }\n",
              "    40% {\n",
              "      border-color: transparent;\n",
              "      border-right-color: var(--fill-color);\n",
              "      border-top-color: var(--fill-color);\n",
              "    }\n",
              "    60% {\n",
              "      border-color: transparent;\n",
              "      border-right-color: var(--fill-color);\n",
              "    }\n",
              "    80% {\n",
              "      border-color: transparent;\n",
              "      border-right-color: var(--fill-color);\n",
              "      border-bottom-color: var(--fill-color);\n",
              "    }\n",
              "    90% {\n",
              "      border-color: transparent;\n",
              "      border-bottom-color: var(--fill-color);\n",
              "    }\n",
              "  }\n",
              "</style>\n",
              "\n",
              "  <script>\n",
              "    async function quickchart(key) {\n",
              "      const quickchartButtonEl =\n",
              "        document.querySelector('#' + key + ' button');\n",
              "      quickchartButtonEl.disabled = true;  // To prevent multiple clicks.\n",
              "      quickchartButtonEl.classList.add('colab-df-spinner');\n",
              "      try {\n",
              "        const charts = await google.colab.kernel.invokeFunction(\n",
              "            'suggestCharts', [key], {});\n",
              "      } catch (error) {\n",
              "        console.error('Error during call to suggestCharts:', error);\n",
              "      }\n",
              "      quickchartButtonEl.classList.remove('colab-df-spinner');\n",
              "      quickchartButtonEl.classList.add('colab-df-quickchart-complete');\n",
              "    }\n",
              "    (() => {\n",
              "      let quickchartButtonEl =\n",
              "        document.querySelector('#df-73f34b1d-f852-429a-b4f5-ce9bc85e60b9 button');\n",
              "      quickchartButtonEl.style.display =\n",
              "        google.colab.kernel.accessAllowed ? 'block' : 'none';\n",
              "    })();\n",
              "  </script>\n",
              "</div>\n",
              "\n",
              "    </div>\n",
              "  </div>\n"
            ],
            "application/vnd.google.colaboratory.intrinsic+json": {
              "type": "dataframe",
              "variable_name": "x"
            }
          },
          "metadata": {},
          "execution_count": 130
        }
      ]
    },
    {
      "cell_type": "code",
      "source": [
        "x.info()"
      ],
      "metadata": {
        "colab": {
          "base_uri": "https://localhost:8080/"
        },
        "id": "yWplkput2Nre",
        "outputId": "2bb6c81e-ca43-4351-ce4a-61689a5254dd"
      },
      "execution_count": 137,
      "outputs": [
        {
          "output_type": "stream",
          "name": "stdout",
          "text": [
            "<class 'pandas.core.frame.DataFrame'>\n",
            "RangeIndex: 7376 entries, 0 to 7375\n",
            "Columns: 193 entries, 0 to date\n",
            "dtypes: float32(192), float64(1)\n",
            "memory usage: 5.5 MB\n"
          ]
        }
      ]
    },
    {
      "cell_type": "code",
      "source": [
        "y.head()"
      ],
      "metadata": {
        "id": "wKmo3gSksoSP",
        "colab": {
          "base_uri": "https://localhost:8080/"
        },
        "outputId": "a485a9a7-049b-4c7d-e118-78a083f56da4"
      },
      "execution_count": 127,
      "outputs": [
        {
          "output_type": "execute_result",
          "data": {
            "text/plain": [
              "0    0\n",
              "1    0\n",
              "2    1\n",
              "3    1\n",
              "4    1\n",
              "Name: label, dtype: int64"
            ]
          },
          "metadata": {},
          "execution_count": 127
        }
      ]
    },
    {
      "cell_type": "code",
      "source": [
        "from sklearn.model_selection import train_test_split\n",
        "# Split the data into training and testing sets (80% train, 20% test)\n",
        "x_train, x_test, y_train, y_test = train_test_split(x, y, test_size=0.1)\n"
      ],
      "metadata": {
        "id": "OyYZQyOJVM0r"
      },
      "execution_count": 142,
      "outputs": []
    },
    {
      "cell_type": "code",
      "source": [
        "x_train.info()"
      ],
      "metadata": {
        "colab": {
          "base_uri": "https://localhost:8080/"
        },
        "id": "eFLgjSec3VnO",
        "outputId": "ecb3c489-c286-40e6-ed97-e0df2ed048e0"
      },
      "execution_count": 143,
      "outputs": [
        {
          "output_type": "stream",
          "name": "stdout",
          "text": [
            "<class 'pandas.core.frame.DataFrame'>\n",
            "Index: 6638 entries, 4135 to 472\n",
            "Columns: 193 entries, 0 to date\n",
            "dtypes: float32(192), float64(1)\n",
            "memory usage: 5.0 MB\n"
          ]
        }
      ]
    },
    {
      "cell_type": "code",
      "source": [
        "# 1 data availability\n",
        "# 2 separating independent and dependent (Only for Supervised)\n",
        "# 3 identifying algorithms/Model\n",
        "# 4 training\n",
        "# 5 evaluation"
      ],
      "metadata": {
        "id": "mChAtcQxhVXP"
      },
      "execution_count": null,
      "outputs": []
    },
    {
      "cell_type": "code",
      "source": [
        "from sklearn.preprocessing import MinMaxScaler\n",
        "\n",
        "# Initialize MinMaxScaler\n",
        "scaler = MinMaxScaler()\n",
        "\n",
        "# Fit scaler on training data and transform both training and testing data\n",
        "x_train_scaled = scaler.fit_transform(x_train)\n",
        "x_test_scaled = scaler.transform(x_test)\n"
      ],
      "metadata": {
        "id": "zlgNLM8a4pju"
      },
      "execution_count": 145,
      "outputs": []
    },
    {
      "cell_type": "code",
      "source": [
        "from sklearn.naive_bayes import MultinomialNB\n",
        "from sklearn.metrics import accuracy_score\n",
        "\n",
        "# Initialize the Naive Bayes classifier\n",
        "nb_classifier = MultinomialNB()\n",
        "\n",
        "# Train the classifier on the scaled training data\n",
        "nb_classifier.fit(x_train_scaled, y_train)\n",
        "\n",
        "# Make predictions on the scaled testing data\n",
        "y_pred = nb_classifier.predict(x_test_scaled)\n",
        "\n",
        "# Calculate accuracy\n",
        "accuracy = accuracy_score(y_test, y_pred)\n",
        "print(\"Naive bayes Accuracy:\", accuracy)\n"
      ],
      "metadata": {
        "colab": {
          "base_uri": "https://localhost:8080/"
        },
        "id": "_rIdOGZ94yIO",
        "outputId": "c3a062e0-c7ce-4d09-da2c-d65ddf092952"
      },
      "execution_count": 148,
      "outputs": [
        {
          "output_type": "stream",
          "name": "stdout",
          "text": [
            "Naive bayes Accuracy: 0.44715447154471544\n"
          ]
        }
      ]
    },
    {
      "cell_type": "code",
      "source": [
        "from sklearn.ensemble import RandomForestClassifier\n",
        "\n",
        "# Initialize the Random Forest classifier\n",
        "rf_classifier = RandomForestClassifier()\n",
        "\n",
        "# Train the classifier on the scaled training data\n",
        "rf_classifier.fit(x_train_scaled, y_train)\n",
        "\n",
        "# Make predictions on the scaled testing data\n",
        "y_pred_rf = rf_classifier.predict(x_test_scaled)\n",
        "\n",
        "# Calculate accuracy\n",
        "accuracy_rf = accuracy_score(y_test, y_pred_rf)\n",
        "print(\"Random Forest Accuracy:\", accuracy_rf)\n"
      ],
      "metadata": {
        "colab": {
          "base_uri": "https://localhost:8080/"
        },
        "id": "FU5TmW-g5OHt",
        "outputId": "67094241-f691-42f1-bfc4-516d70d70eef"
      },
      "execution_count": 149,
      "outputs": [
        {
          "output_type": "stream",
          "name": "stdout",
          "text": [
            "Random Forest Accuracy: 0.04878048780487805\n"
          ]
        }
      ]
    },
    {
      "cell_type": "code",
      "source": [
        "from sklearn.svm import SVC\n",
        "\n",
        "# Initialize the SVM classifier\n",
        "svm_classifier = SVC()\n",
        "\n",
        "# Train the classifier on the scaled training data\n",
        "svm_classifier.fit(x_train_scaled, y_train)\n",
        "\n",
        "# Make predictions on the scaled testing data\n",
        "y_pred_svm = svm_classifier.predict(x_test_scaled)\n",
        "\n",
        "# Calculate accuracy\n",
        "accuracy_svm = accuracy_score(y_test, y_pred_svm)\n",
        "print(\"SVM Accuracy:\", accuracy_svm)\n"
      ],
      "metadata": {
        "colab": {
          "base_uri": "https://localhost:8080/"
        },
        "id": "91Z-z9Yx5dgM",
        "outputId": "56d5e663-2cdc-4417-e271-ce67415548e2"
      },
      "execution_count": 150,
      "outputs": [
        {
          "output_type": "stream",
          "name": "stdout",
          "text": [
            "SVM Accuracy: 0.23306233062330622\n"
          ]
        }
      ]
    },
    {
      "cell_type": "code",
      "source": [
        "from sklearn.ensemble import AdaBoostClassifier\n",
        "\n",
        "# Initialize the AdaBoost classifier\n",
        "adaboost_classifier = AdaBoostClassifier()\n",
        "\n",
        "# Train the classifier on the scaled training data\n",
        "adaboost_classifier.fit(x_train_scaled, y_train)\n",
        "\n",
        "# Make predictions on the scaled testing data\n",
        "y_pred_adaboost = adaboost_classifier.predict(x_test_scaled)\n",
        "\n",
        "# Calculate accuracy\n",
        "accuracy_adaboost = accuracy_score(y_test, y_pred_adaboost)\n",
        "print(\"AdaBoost Accuracy:\", accuracy_adaboost)\n"
      ],
      "metadata": {
        "colab": {
          "base_uri": "https://localhost:8080/"
        },
        "id": "naDJTHAP5deG",
        "outputId": "4ce3aaf7-329c-41a6-b345-afa16b9dd7c3"
      },
      "execution_count": 151,
      "outputs": [
        {
          "output_type": "stream",
          "name": "stdout",
          "text": [
            "AdaBoost Accuracy: 0.35501355013550134\n"
          ]
        }
      ]
    },
    {
      "cell_type": "markdown",
      "source": [
        "# **Conclusion**"
      ],
      "metadata": {
        "id": "JPpL5Hc2576-"
      }
    },
    {
      "cell_type": "markdown",
      "source": [
        "Based on the accuracy achieved, it appears that the Random Forest classifier outperforms other models such as Naive Bayes, Support Vector Machine (SVM), and AdaBoost for your specific dataset.\n",
        "\n",
        "Random Forest is a versatile ensemble learning method that combines multiple decision trees to build a robust classifier. It is effective in handling high-dimensional data, capturing complex relationships, and reducing overfitting. Additionally, Random Forest models are relatively easy to train and interpret.\n",
        "\n",
        "Therefore, based on the evaluation of model performance, the Random Forest classifier seems to be the best choice for your dataset. However, it's essential to consider other factors such as computational resources, interpretability, and specific requirements of your application when selecting the best model."
      ],
      "metadata": {
        "id": "9nO5FSdX5rft"
      }
    }
  ]
}